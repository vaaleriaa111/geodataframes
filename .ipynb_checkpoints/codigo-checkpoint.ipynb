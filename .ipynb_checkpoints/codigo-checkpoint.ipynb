{
 "cells": [
  {
   "cell_type": "code",
   "execution_count": 1,
   "id": "f6032eec",
   "metadata": {},
   "outputs": [
    {
     "name": "stdout",
     "output_type": "stream",
     "text": [
      "Requirement already satisfied: unidecode in /Users/valeriaminano/opt/anaconda3/lib/python3.9/site-packages (1.2.0)\r\n"
     ]
    }
   ],
   "source": [
    "!pip install unidecode "
   ]
  },
  {
   "cell_type": "code",
   "execution_count": 26,
   "id": "575951a6",
   "metadata": {},
   "outputs": [
    {
     "name": "stdout",
     "output_type": "stream",
     "text": [
      "Collecting pysal\n",
      "  Downloading pysal-23.1-py3-none-any.whl (17 kB)\n",
      "Collecting segregation>=2.3.1\n",
      "  Downloading segregation-2.4.2-py3-none-any.whl (147 kB)\n",
      "\u001b[2K     \u001b[90m━━━━━━━━━━━━━━━━━━━━━━━━━━━━━━━━━━━━━━━\u001b[0m \u001b[32m147.5/147.5 kB\u001b[0m \u001b[31m2.6 MB/s\u001b[0m eta \u001b[36m0:00:00\u001b[0ma \u001b[36m0:00:01\u001b[0m\n",
      "\u001b[?25hCollecting access>=1.1.8\n",
      "  Downloading access-1.1.9-py3-none-any.whl (21 kB)\n",
      "Collecting splot>=1.1.5.post1\n",
      "  Downloading splot-1.1.5.post1-py3-none-any.whl (39 kB)\n",
      "Collecting pointpats>=2.2.0\n",
      "  Downloading pointpats-2.3.0-py3-none-any.whl (59 kB)\n",
      "\u001b[2K     \u001b[90m━━━━━━━━━━━━━━━━━━━━━━━━━━━━━━━━━━━━━━━━\u001b[0m \u001b[32m59.2/59.2 kB\u001b[0m \u001b[31m1.2 MB/s\u001b[0m eta \u001b[36m0:00:00\u001b[0ma \u001b[36m0:00:01\u001b[0m\n",
      "\u001b[?25hCollecting spaghetti>=1.7.2\n",
      "  Downloading spaghetti-1.7.4-py3-none-any.whl (50 kB)\n",
      "\u001b[2K     \u001b[90m━━━━━━━━━━━━━━━━━━━━━━━━━━━━━━━━━━━━━━━━\u001b[0m \u001b[32m50.1/50.1 kB\u001b[0m \u001b[31m1.6 MB/s\u001b[0m eta \u001b[36m0:00:00\u001b[0m\n",
      "\u001b[?25hCollecting spopt>=0.5.0\n",
      "  Downloading spopt-0.5.0-py3-none-any.whl (112 kB)\n",
      "\u001b[2K     \u001b[90m━━━━━━━━━━━━━━━━━━━━━━━━━━━━━━━━━━━━━━━\u001b[0m \u001b[32m112.9/112.9 kB\u001b[0m \u001b[31m4.1 MB/s\u001b[0m eta \u001b[36m0:00:00\u001b[0m\n",
      "\u001b[?25hCollecting libpysal>=4.7.0\n",
      "  Downloading libpysal-4.7.0-py3-none-any.whl (2.4 MB)\n",
      "\u001b[2K     \u001b[90m━━━━━━━━━━━━━━━━━━━━━━━━━━━━━━━━━━━━━━━━\u001b[0m \u001b[32m2.4/2.4 MB\u001b[0m \u001b[31m2.9 MB/s\u001b[0m eta \u001b[36m0:00:00\u001b[0m00:01\u001b[0m00:01\u001b[0m\n",
      "\u001b[?25hCollecting spvcm>=0.3.0\n",
      "  Downloading spvcm-0.3.0.tar.gz (5.7 MB)\n",
      "\u001b[2K     \u001b[90m━━━━━━━━━━━━━━━━━━━━━━━━━━━━━━━━━━━━━━━━\u001b[0m \u001b[32m5.7/5.7 MB\u001b[0m \u001b[31m3.2 MB/s\u001b[0m eta \u001b[36m0:00:00\u001b[0m00:01\u001b[0m00:01\u001b[0m\n",
      "\u001b[?25h  Preparing metadata (setup.py) ... \u001b[?25ldone\n",
      "\u001b[?25hCollecting inequality>=1.0.0\n",
      "  Downloading inequality-1.0.0.tar.gz (11 kB)\n",
      "  Preparing metadata (setup.py) ... \u001b[?25ldone\n",
      "\u001b[?25hCollecting spint>=1.0.7\n",
      "  Downloading spint-1.0.7.tar.gz (28 kB)\n",
      "  Preparing metadata (setup.py) ... \u001b[?25ldone\n",
      "\u001b[?25hCollecting giddy>=2.3.3\n",
      "  Downloading giddy-2.3.4-py3-none-any.whl (61 kB)\n",
      "\u001b[2K     \u001b[90m━━━━━━━━━━━━━━━━━━━━━━━━━━━━━━━━━━━━━━━\u001b[0m \u001b[32m61.1/61.1 kB\u001b[0m \u001b[31m747.0 kB/s\u001b[0m eta \u001b[36m0:00:00\u001b[0m \u001b[36m0:00:01\u001b[0m\n",
      "\u001b[?25hCollecting spreg>=1.3.0\n",
      "  Downloading spreg-1.3.2-py3-none-any.whl (220 kB)\n",
      "\u001b[2K     \u001b[90m━━━━━━━━━━━━━━━━━━━━━━━━━━━━━━━━━━━━━━━\u001b[0m \u001b[32m220.2/220.2 kB\u001b[0m \u001b[31m2.0 MB/s\u001b[0m eta \u001b[36m0:00:00\u001b[0ma \u001b[36m0:00:01\u001b[0m\n",
      "\u001b[?25hCollecting momepy>=0.5.4\n",
      "  Downloading momepy-0.6.0-py3-none-any.whl (275 kB)\n",
      "\u001b[2K     \u001b[90m━━━━━━━━━━━━━━━━━━━━━━━━━━━━━━━━━━━━━━━\u001b[0m \u001b[32m275.7/275.7 kB\u001b[0m \u001b[31m2.2 MB/s\u001b[0m eta \u001b[36m0:00:00\u001b[0ma \u001b[36m0:00:01\u001b[0m\n",
      "\u001b[?25hCollecting spglm>=1.0.8\n",
      "  Downloading spglm-1.0.8.tar.gz (37 kB)\n",
      "  Preparing metadata (setup.py) ... \u001b[?25ldone\n",
      "\u001b[?25hCollecting esda>=2.4.1\n",
      "  Downloading esda-2.4.3.tar.gz (116 kB)\n",
      "\u001b[2K     \u001b[90m━━━━━━━━━━━━━━━━━━━━━━━━━━━━━━━━━━━━━━━\u001b[0m \u001b[32m116.6/116.6 kB\u001b[0m \u001b[31m2.4 MB/s\u001b[0m eta \u001b[36m0:00:00\u001b[0ma \u001b[36m0:00:01\u001b[0m\n",
      "\u001b[?25h  Preparing metadata (setup.py) ... \u001b[?25ldone\n",
      "\u001b[?25hCollecting mgwr>=2.1.2\n",
      "  Downloading mgwr-2.1.2.tar.gz (41 kB)\n",
      "\u001b[2K     \u001b[90m━━━━━━━━━━━━━━━━━━━━━━━━━━━━━━━━━━━━━━━━\u001b[0m \u001b[32m41.8/41.8 kB\u001b[0m \u001b[31m1.1 MB/s\u001b[0m eta \u001b[36m0:00:00\u001b[0m\n",
      "\u001b[?25h  Preparing metadata (setup.py) ... \u001b[?25ldone\n",
      "\u001b[?25hRequirement already satisfied: mapclassify>=2.5.0 in /Users/valeriaminano/opt/anaconda3/lib/python3.9/site-packages (from pysal) (2.5.0)\n",
      "Collecting tobler>=0.8.2\n",
      "  Downloading tobler-0.10-py3-none-any.whl (30 kB)\n",
      "Requirement already satisfied: pandas>=0.23.4 in /Users/valeriaminano/opt/anaconda3/lib/python3.9/site-packages (from access>=1.1.8->pysal) (1.4.4)\n",
      "Requirement already satisfied: requests>=2 in /Users/valeriaminano/opt/anaconda3/lib/python3.9/site-packages (from access>=1.1.8->pysal) (2.28.1)\n",
      "Requirement already satisfied: geopandas in /Users/valeriaminano/opt/anaconda3/lib/python3.9/site-packages (from access>=1.1.8->pysal) (0.12.2)\n",
      "Requirement already satisfied: numpy>=1.3 in /Users/valeriaminano/opt/anaconda3/lib/python3.9/site-packages (from access>=1.1.8->pysal) (1.21.5)\n",
      "Requirement already satisfied: scipy>=0.11 in /Users/valeriaminano/opt/anaconda3/lib/python3.9/site-packages (from esda>=2.4.1->pysal) (1.9.1)\n",
      "Requirement already satisfied: scikit-learn in /Users/valeriaminano/opt/anaconda3/lib/python3.9/site-packages (from esda>=2.4.1->pysal) (1.0.2)\n",
      "Collecting quantecon>=0.4.7\n",
      "  Downloading quantecon-0.7.1-py3-none-any.whl (214 kB)\n",
      "\u001b[2K     \u001b[90m━━━━━━━━━━━━━━━━━━━━━━━━━━━━━━━━━━━━━━━\u001b[0m \u001b[32m214.8/214.8 kB\u001b[0m \u001b[31m2.0 MB/s\u001b[0m eta \u001b[36m0:00:00\u001b[0ma \u001b[36m0:00:01\u001b[0m\n",
      "\u001b[?25hRequirement already satisfied: platformdirs in /Users/valeriaminano/opt/anaconda3/lib/python3.9/site-packages (from libpysal>=4.7.0->pysal) (2.5.2)\n",
      "Requirement already satisfied: packaging in /Users/valeriaminano/opt/anaconda3/lib/python3.9/site-packages (from libpysal>=4.7.0->pysal) (21.3)\n",
      "Requirement already satisfied: jinja2 in /Users/valeriaminano/opt/anaconda3/lib/python3.9/site-packages (from libpysal>=4.7.0->pysal) (2.11.3)\n",
      "Requirement already satisfied: beautifulsoup4 in /Users/valeriaminano/opt/anaconda3/lib/python3.9/site-packages (from libpysal>=4.7.0->pysal) (4.11.1)\n",
      "Requirement already satisfied: networkx in /Users/valeriaminano/opt/anaconda3/lib/python3.9/site-packages (from mapclassify>=2.5.0->pysal) (2.8.4)\n",
      "Requirement already satisfied: shapely>=2 in /Users/valeriaminano/opt/anaconda3/lib/python3.9/site-packages (from momepy>=0.5.4->pysal) (2.0.1)\n",
      "Requirement already satisfied: tqdm>=4.27.0 in /Users/valeriaminano/opt/anaconda3/lib/python3.9/site-packages (from momepy>=0.5.4->pysal) (4.64.1)\n",
      "Requirement already satisfied: matplotlib in /Users/valeriaminano/opt/anaconda3/lib/python3.9/site-packages (from pointpats>=2.2.0->pysal) (3.5.2)\n",
      "Requirement already satisfied: seaborn in /Users/valeriaminano/opt/anaconda3/lib/python3.9/site-packages (from segregation>=2.3.1->pysal) (0.11.2)\n",
      "Collecting deprecation\n",
      "  Downloading deprecation-2.1.0-py2.py3-none-any.whl (11 kB)\n",
      "Collecting pyproj>=3\n",
      "  Downloading pyproj-3.6.0-cp39-cp39-macosx_10_9_x86_64.whl (5.9 MB)\n",
      "\u001b[2K     \u001b[90m━━━━━━━━━━━━━━━━━━━━━━━━━━━━━━━━━━━━━━━━\u001b[0m \u001b[32m5.9/5.9 MB\u001b[0m \u001b[31m3.5 MB/s\u001b[0m eta \u001b[36m0:00:00\u001b[0m00:01\u001b[0m00:01\u001b[0m\n",
      "\u001b[?25hRequirement already satisfied: joblib in /Users/valeriaminano/opt/anaconda3/lib/python3.9/site-packages (from segregation>=2.3.1->pysal) (1.1.0)\n",
      "Requirement already satisfied: numba in /Users/valeriaminano/opt/anaconda3/lib/python3.9/site-packages (from segregation>=2.3.1->pysal) (0.55.1)\n",
      "Requirement already satisfied: rtree in /Users/valeriaminano/opt/anaconda3/lib/python3.9/site-packages (from spaghetti>=1.7.2->pysal) (0.9.7)\n",
      "Collecting pulp\n",
      "  Downloading PuLP-2.7.0-py3-none-any.whl (14.3 MB)\n",
      "\u001b[2K     \u001b[90m━━━━━━━━━━━━━━━━━━━━━━━━━━━━━━━━━━━━━━━━\u001b[0m \u001b[32m14.3/14.3 MB\u001b[0m \u001b[31m3.1 MB/s\u001b[0m eta \u001b[36m0:00:00\u001b[0m00:01\u001b[0m00:01\u001b[0m\n",
      "\u001b[?25hCollecting geopandas\n",
      "  Using cached geopandas-0.13.2-py3-none-any.whl (1.1 MB)\n",
      "Requirement already satisfied: statsmodels in /Users/valeriaminano/opt/anaconda3/lib/python3.9/site-packages (from tobler>=0.8.2->pysal) (0.13.2)\n",
      "Collecting rasterio\n",
      "  Downloading rasterio-1.3.8-cp39-cp39-macosx_10_15_x86_64.whl (22.9 MB)\n",
      "\u001b[2K     \u001b[90m━━━━━━━━━━━━━━━━━━━━━━━━━━━━━━━━━━━━━━━━\u001b[0m \u001b[32m22.9/22.9 MB\u001b[0m \u001b[31m3.1 MB/s\u001b[0m eta \u001b[36m0:00:00\u001b[0m00:01\u001b[0m00:01\u001b[0m\n",
      "\u001b[?25hCollecting rasterstats\n",
      "  Downloading rasterstats-0.19.0-py3-none-any.whl (16 kB)\n",
      "Requirement already satisfied: fiona>=1.8.19 in /Users/valeriaminano/opt/anaconda3/lib/python3.9/site-packages (from geopandas->access>=1.1.8->pysal) (1.8.22)\n",
      "Requirement already satisfied: python-dateutil>=2.8.1 in /Users/valeriaminano/opt/anaconda3/lib/python3.9/site-packages (from pandas>=0.23.4->access>=1.1.8->pysal) (2.8.2)\n",
      "Requirement already satisfied: pytz>=2020.1 in /Users/valeriaminano/opt/anaconda3/lib/python3.9/site-packages (from pandas>=0.23.4->access>=1.1.8->pysal) (2022.1)\n",
      "Requirement already satisfied: certifi in /Users/valeriaminano/opt/anaconda3/lib/python3.9/site-packages (from pyproj>=3->segregation>=2.3.1->pysal) (2022.9.24)\n",
      "Requirement already satisfied: sympy in /Users/valeriaminano/opt/anaconda3/lib/python3.9/site-packages (from quantecon>=0.4.7->giddy>=2.3.3->pysal) (1.10.1)\n",
      "Requirement already satisfied: llvmlite<0.39,>=0.38.0rc1 in /Users/valeriaminano/opt/anaconda3/lib/python3.9/site-packages (from numba->segregation>=2.3.1->pysal) (0.38.0)\n",
      "Requirement already satisfied: setuptools in /Users/valeriaminano/opt/anaconda3/lib/python3.9/site-packages (from numba->segregation>=2.3.1->pysal) (63.4.1)\n"
     ]
    },
    {
     "name": "stdout",
     "output_type": "stream",
     "text": [
      "Requirement already satisfied: charset-normalizer<3,>=2 in /Users/valeriaminano/opt/anaconda3/lib/python3.9/site-packages (from requests>=2->access>=1.1.8->pysal) (2.0.4)\n",
      "Requirement already satisfied: urllib3<1.27,>=1.21.1 in /Users/valeriaminano/opt/anaconda3/lib/python3.9/site-packages (from requests>=2->access>=1.1.8->pysal) (1.26.11)\n",
      "Requirement already satisfied: idna<4,>=2.5 in /Users/valeriaminano/opt/anaconda3/lib/python3.9/site-packages (from requests>=2->access>=1.1.8->pysal) (3.3)\n",
      "Requirement already satisfied: threadpoolctl>=2.0.0 in /Users/valeriaminano/opt/anaconda3/lib/python3.9/site-packages (from scikit-learn->esda>=2.4.1->pysal) (2.2.0)\n",
      "Requirement already satisfied: soupsieve>1.2 in /Users/valeriaminano/opt/anaconda3/lib/python3.9/site-packages (from beautifulsoup4->libpysal>=4.7.0->pysal) (2.3.1)\n",
      "Requirement already satisfied: MarkupSafe>=0.23 in /Users/valeriaminano/opt/anaconda3/lib/python3.9/site-packages (from jinja2->libpysal>=4.7.0->pysal) (2.0.1)\n",
      "Requirement already satisfied: fonttools>=4.22.0 in /Users/valeriaminano/opt/anaconda3/lib/python3.9/site-packages (from matplotlib->pointpats>=2.2.0->pysal) (4.25.0)\n",
      "Requirement already satisfied: pyparsing>=2.2.1 in /Users/valeriaminano/opt/anaconda3/lib/python3.9/site-packages (from matplotlib->pointpats>=2.2.0->pysal) (3.0.9)\n",
      "Requirement already satisfied: pillow>=6.2.0 in /Users/valeriaminano/opt/anaconda3/lib/python3.9/site-packages (from matplotlib->pointpats>=2.2.0->pysal) (9.2.0)\n",
      "Requirement already satisfied: kiwisolver>=1.0.1 in /Users/valeriaminano/opt/anaconda3/lib/python3.9/site-packages (from matplotlib->pointpats>=2.2.0->pysal) (1.4.2)\n",
      "Requirement already satisfied: cycler>=0.10 in /Users/valeriaminano/opt/anaconda3/lib/python3.9/site-packages (from matplotlib->pointpats>=2.2.0->pysal) (0.11.0)\n",
      "Collecting affine\n",
      "  Downloading affine-2.4.0-py3-none-any.whl (15 kB)\n",
      "Requirement already satisfied: click-plugins in /Users/valeriaminano/opt/anaconda3/lib/python3.9/site-packages (from rasterio->tobler>=0.8.2->pysal) (1.1.1)\n",
      "Requirement already satisfied: attrs in /Users/valeriaminano/opt/anaconda3/lib/python3.9/site-packages (from rasterio->tobler>=0.8.2->pysal) (21.4.0)\n",
      "Requirement already satisfied: cligj>=0.5 in /Users/valeriaminano/opt/anaconda3/lib/python3.9/site-packages (from rasterio->tobler>=0.8.2->pysal) (0.7.2)\n",
      "Collecting snuggs>=1.4.1\n",
      "  Downloading snuggs-1.4.7-py3-none-any.whl (5.4 kB)\n",
      "Requirement already satisfied: click>=4.0 in /Users/valeriaminano/opt/anaconda3/lib/python3.9/site-packages (from rasterio->tobler>=0.8.2->pysal) (8.0.4)\n",
      "Collecting simplejson\n",
      "  Downloading simplejson-3.19.1-cp39-cp39-macosx_10_9_x86_64.whl (76 kB)\n",
      "\u001b[2K     \u001b[90m━━━━━━━━━━━━━━━━━━━━━━━━━━━━━━━━━━━━━━━━\u001b[0m \u001b[32m76.4/76.4 kB\u001b[0m \u001b[31m1.6 MB/s\u001b[0m eta \u001b[36m0:00:00\u001b[0ma \u001b[36m0:00:01\u001b[0m\n",
      "\u001b[?25hRequirement already satisfied: patsy>=0.5.2 in /Users/valeriaminano/opt/anaconda3/lib/python3.9/site-packages (from statsmodels->tobler>=0.8.2->pysal) (0.5.2)\n",
      "Requirement already satisfied: six>=1.7 in /Users/valeriaminano/opt/anaconda3/lib/python3.9/site-packages (from fiona>=1.8.19->geopandas->access>=1.1.8->pysal) (1.16.0)\n",
      "Requirement already satisfied: munch in /Users/valeriaminano/opt/anaconda3/lib/python3.9/site-packages (from fiona>=1.8.19->geopandas->access>=1.1.8->pysal) (2.5.0)\n",
      "Requirement already satisfied: mpmath>=0.19 in /Users/valeriaminano/opt/anaconda3/lib/python3.9/site-packages (from sympy->quantecon>=0.4.7->giddy>=2.3.3->pysal) (1.2.1)\n",
      "Building wheels for collected packages: esda, inequality, mgwr, spglm, spint, spvcm\n",
      "  Building wheel for esda (setup.py) ... \u001b[?25ldone\n",
      "\u001b[?25h  Created wheel for esda: filename=esda-2.4.3-py3-none-any.whl size=122765 sha256=af782f1396c157f667706d5fc7dd6e3b1cf1db04d2e58907808749090d093624\n",
      "  Stored in directory: /Users/valeriaminano/Library/Caches/pip/wheels/92/4b/14/df69615cd54ad1ce64b70d141dee8b269ebc7ace679cef9f3f\n",
      "  Building wheel for inequality (setup.py) ... \u001b[?25ldone\n",
      "\u001b[?25h  Created wheel for inequality: filename=inequality-1.0.0-py3-none-any.whl size=11782 sha256=32d482c729f49133630801007eede581f482f102628f63f821e5bb9cdbc86b45\n",
      "  Stored in directory: /Users/valeriaminano/Library/Caches/pip/wheels/80/71/07/4d4c8ecaba710bd79e91014602e70fc4d008328c99d524db40\n",
      "  Building wheel for mgwr (setup.py) ... \u001b[?25ldone\n",
      "\u001b[?25h  Created wheel for mgwr: filename=mgwr-2.1.2-py3-none-any.whl size=46366 sha256=3aef5a619dd466435ac1140c3d450b2248e2042a52b65ab352ed8e26b495ca03\n",
      "  Stored in directory: /Users/valeriaminano/Library/Caches/pip/wheels/7f/03/f3/6d95ff5d1911ba9e13f98d96dab2afb10969270ee75ab82bc8\n",
      "  Building wheel for spglm (setup.py) ... \u001b[?25ldone\n",
      "\u001b[?25h  Created wheel for spglm: filename=spglm-1.0.8-py3-none-any.whl size=38786 sha256=4dcbce24d6c94d565453f6b6f140ab1b7654c073cb416e0f305bba81529cfc3d\n",
      "  Stored in directory: /Users/valeriaminano/Library/Caches/pip/wheels/c2/b8/7e/709d2af4286d94d611711d81727d40149e7467ca9a43c5e30c\n",
      "  Building wheel for spint (setup.py) ... \u001b[?25ldone\n",
      "\u001b[?25h  Created wheel for spint: filename=spint-1.0.7-py3-none-any.whl size=31364 sha256=a09b264dae6ef88231c29312f0f1ec35ed5cb5aef6dee298c7b27f9a24ace882\n",
      "  Stored in directory: /Users/valeriaminano/Library/Caches/pip/wheels/93/a7/ea/0e65be5d06cd2860a4c2ea99656ead582f96aa3954652b6ad7\n",
      "  Building wheel for spvcm (setup.py) ... \u001b[?25ldone\n",
      "\u001b[?25h  Created wheel for spvcm: filename=spvcm-0.3.0-py3-none-any.whl size=5777185 sha256=4eb01377e8127cddfaac3565b6d94afc75b0594331dcf44978e25a0b2b699560\n",
      "  Stored in directory: /Users/valeriaminano/Library/Caches/pip/wheels/73/d0/2c/ef650f39e25225566643b2839ebfe7a2d4adc5d777dc8d7d73\n",
      "Successfully built esda inequality mgwr spglm spint spvcm\n",
      "Installing collected packages: pulp, snuggs, simplejson, pyproj, affine, rasterio, quantecon, inequality, deprecation, rasterstats, libpysal, geopandas, tobler, spreg, segregation, pointpats, momepy, esda, access, spvcm, spglm, spaghetti, giddy, spopt, splot, spint, mgwr, pysal\n",
      "  Attempting uninstall: pyproj\n",
      "    Found existing installation: pyproj 2.6.1.post1\n",
      "    Uninstalling pyproj-2.6.1.post1:\n",
      "      Successfully uninstalled pyproj-2.6.1.post1\n",
      "  Attempting uninstall: geopandas\n",
      "    Found existing installation: geopandas 0.12.2\n",
      "    Uninstalling geopandas-0.12.2:\n",
      "      Successfully uninstalled geopandas-0.12.2\n",
      "Successfully installed access-1.1.9 affine-2.4.0 deprecation-2.1.0 esda-2.4.3 geopandas-0.13.2 giddy-2.3.4 inequality-1.0.0 libpysal-4.7.0 mgwr-2.1.2 momepy-0.6.0 pointpats-2.3.0 pulp-2.7.0 pyproj-3.6.0 pysal-23.1 quantecon-0.7.1 rasterio-1.3.8 rasterstats-0.19.0 segregation-2.4.2 simplejson-3.19.1 snuggs-1.4.7 spaghetti-1.7.4 spglm-1.0.8 spint-1.0.7 splot-1.1.5.post1 spopt-0.5.0 spreg-1.3.2 spvcm-0.3.0 tobler-0.10\n"
     ]
    }
   ],
   "source": [
    "!pip install pysal "
   ]
  },
  {
   "cell_type": "code",
   "execution_count": 28,
   "id": "cc17e8b6",
   "metadata": {},
   "outputs": [
    {
     "name": "stdout",
     "output_type": "stream",
     "text": [
      "Requirement already satisfied: mapclassify in /Users/valeriaminano/opt/anaconda3/lib/python3.9/site-packages (2.5.0)\n",
      "Requirement already satisfied: pandas>=1.0 in /Users/valeriaminano/opt/anaconda3/lib/python3.9/site-packages (from mapclassify) (1.4.4)\n",
      "Requirement already satisfied: scikit-learn in /Users/valeriaminano/opt/anaconda3/lib/python3.9/site-packages (from mapclassify) (1.0.2)\n",
      "Requirement already satisfied: networkx in /Users/valeriaminano/opt/anaconda3/lib/python3.9/site-packages (from mapclassify) (2.8.4)\n",
      "Requirement already satisfied: scipy>=1.0 in /Users/valeriaminano/opt/anaconda3/lib/python3.9/site-packages (from mapclassify) (1.9.1)\n",
      "Requirement already satisfied: numpy>=1.3 in /Users/valeriaminano/opt/anaconda3/lib/python3.9/site-packages (from mapclassify) (1.21.5)\n",
      "Requirement already satisfied: python-dateutil>=2.8.1 in /Users/valeriaminano/opt/anaconda3/lib/python3.9/site-packages (from pandas>=1.0->mapclassify) (2.8.2)\n",
      "Requirement already satisfied: pytz>=2020.1 in /Users/valeriaminano/opt/anaconda3/lib/python3.9/site-packages (from pandas>=1.0->mapclassify) (2022.1)\n",
      "Requirement already satisfied: joblib>=0.11 in /Users/valeriaminano/opt/anaconda3/lib/python3.9/site-packages (from scikit-learn->mapclassify) (1.1.0)\n",
      "Requirement already satisfied: threadpoolctl>=2.0.0 in /Users/valeriaminano/opt/anaconda3/lib/python3.9/site-packages (from scikit-learn->mapclassify) (2.2.0)\n",
      "Requirement already satisfied: six>=1.5 in /Users/valeriaminano/opt/anaconda3/lib/python3.9/site-packages (from python-dateutil>=2.8.1->pandas>=1.0->mapclassify) (1.16.0)\n"
     ]
    }
   ],
   "source": [
    "!pip install mapclassify"
   ]
  },
  {
   "cell_type": "code",
   "execution_count": 29,
   "id": "ad24b4f4",
   "metadata": {},
   "outputs": [
    {
     "name": "stdout",
     "output_type": "stream",
     "text": [
      "Requirement already satisfied: numpy in /Users/valeriaminano/opt/anaconda3/lib/python3.9/site-packages (1.21.5)\r\n"
     ]
    }
   ],
   "source": [
    "!pip install numpy "
   ]
  },
  {
   "cell_type": "code",
   "execution_count": 2,
   "id": "fd68a4ea",
   "metadata": {},
   "outputs": [
    {
     "data": {
      "text/html": [
       "<div>\n",
       "<style scoped>\n",
       "    .dataframe tbody tr th:only-of-type {\n",
       "        vertical-align: middle;\n",
       "    }\n",
       "\n",
       "    .dataframe tbody tr th {\n",
       "        vertical-align: top;\n",
       "    }\n",
       "\n",
       "    .dataframe thead th {\n",
       "        text-align: right;\n",
       "    }\n",
       "</style>\n",
       "<table border=\"1\" class=\"dataframe\">\n",
       "  <thead>\n",
       "    <tr style=\"text-align: right;\">\n",
       "      <th></th>\n",
       "      <th>Ubigeo</th>\n",
       "      <th>Departamento</th>\n",
       "      <th>Provincia</th>\n",
       "      <th>Distrito</th>\n",
       "      <th>Poblacion</th>\n",
       "      <th>Superficie</th>\n",
       "      <th>IDH2019</th>\n",
       "      <th>Educ_sec_comp2019_pct</th>\n",
       "      <th>NBI2017_pct</th>\n",
       "      <th>Viv_sin_serv_hig2017_pct</th>\n",
       "    </tr>\n",
       "  </thead>\n",
       "  <tbody>\n",
       "    <tr>\n",
       "      <th>0</th>\n",
       "      <td>10202</td>\n",
       "      <td>Amazonas</td>\n",
       "      <td>Bagua</td>\n",
       "      <td>ARAMANGO</td>\n",
       "      <td>10940</td>\n",
       "      <td>809.07</td>\n",
       "      <td>0.36</td>\n",
       "      <td>37.545885</td>\n",
       "      <td>62.9</td>\n",
       "      <td>9.1</td>\n",
       "    </tr>\n",
       "    <tr>\n",
       "      <th>1</th>\n",
       "      <td>10201</td>\n",
       "      <td>Amazonas</td>\n",
       "      <td>Bagua</td>\n",
       "      <td>BAGUA</td>\n",
       "      <td>26091</td>\n",
       "      <td>150.99</td>\n",
       "      <td>0.58</td>\n",
       "      <td>70.795501</td>\n",
       "      <td>25.4</td>\n",
       "      <td>0.7</td>\n",
       "    </tr>\n",
       "    <tr>\n",
       "      <th>2</th>\n",
       "      <td>10203</td>\n",
       "      <td>Amazonas</td>\n",
       "      <td>Bagua</td>\n",
       "      <td>COPALLIN</td>\n",
       "      <td>6319</td>\n",
       "      <td>99.05</td>\n",
       "      <td>0.47</td>\n",
       "      <td>52.571361</td>\n",
       "      <td>45.4</td>\n",
       "      <td>2.1</td>\n",
       "    </tr>\n",
       "    <tr>\n",
       "      <th>3</th>\n",
       "      <td>10204</td>\n",
       "      <td>Amazonas</td>\n",
       "      <td>Bagua</td>\n",
       "      <td>EL PARCO</td>\n",
       "      <td>1492</td>\n",
       "      <td>18.48</td>\n",
       "      <td>0.49</td>\n",
       "      <td>70.215409</td>\n",
       "      <td>59.9</td>\n",
       "      <td>1.5</td>\n",
       "    </tr>\n",
       "    <tr>\n",
       "      <th>4</th>\n",
       "      <td>10205</td>\n",
       "      <td>Amazonas</td>\n",
       "      <td>Bagua</td>\n",
       "      <td>IMAZA</td>\n",
       "      <td>24323</td>\n",
       "      <td>4430.84</td>\n",
       "      <td>0.30</td>\n",
       "      <td>31.295719</td>\n",
       "      <td>88.4</td>\n",
       "      <td>11.7</td>\n",
       "    </tr>\n",
       "  </tbody>\n",
       "</table>\n",
       "</div>"
      ],
      "text/plain": [
       "  Ubigeo Departamento Provincia  Distrito  Poblacion  Superficie  IDH2019  \\\n",
       "0  10202     Amazonas     Bagua  ARAMANGO      10940      809.07     0.36   \n",
       "1  10201     Amazonas     Bagua     BAGUA      26091      150.99     0.58   \n",
       "2  10203     Amazonas     Bagua  COPALLIN       6319       99.05     0.47   \n",
       "3  10204     Amazonas     Bagua  EL PARCO       1492       18.48     0.49   \n",
       "4  10205     Amazonas     Bagua     IMAZA      24323     4430.84     0.30   \n",
       "\n",
       "   Educ_sec_comp2019_pct  NBI2017_pct  Viv_sin_serv_hig2017_pct  \n",
       "0              37.545885         62.9                       9.1  \n",
       "1              70.795501         25.4                       0.7  \n",
       "2              52.571361         45.4                       2.1  \n",
       "3              70.215409         59.9                       1.5  \n",
       "4              31.295719         88.4                      11.7  "
      ]
     },
     "execution_count": 2,
     "metadata": {},
     "output_type": "execute_result"
    }
   ],
   "source": [
    "# data table\n",
    "import pandas as pd\n",
    "import os\n",
    "\n",
    "datadis=pd.read_csv(os.path.join('data','dataPeru_indicadores_1.csv'),dtype={'Ubigeo': object})\n",
    "datadis.head() "
   ]
  },
  {
   "cell_type": "code",
   "execution_count": 3,
   "id": "60e6b771",
   "metadata": {},
   "outputs": [
    {
     "data": {
      "text/html": [
       "<div>\n",
       "<style scoped>\n",
       "    .dataframe tbody tr th:only-of-type {\n",
       "        vertical-align: middle;\n",
       "    }\n",
       "\n",
       "    .dataframe tbody tr th {\n",
       "        vertical-align: top;\n",
       "    }\n",
       "\n",
       "    .dataframe thead th {\n",
       "        text-align: right;\n",
       "    }\n",
       "</style>\n",
       "<table border=\"1\" class=\"dataframe\">\n",
       "  <thead>\n",
       "    <tr style=\"text-align: right;\">\n",
       "      <th></th>\n",
       "      <th>DEPARTAMEN</th>\n",
       "      <th>PROVINCIA</th>\n",
       "      <th>DISTRITO</th>\n",
       "      <th>INSTITUCIO</th>\n",
       "      <th>geometry</th>\n",
       "    </tr>\n",
       "  </thead>\n",
       "  <tbody>\n",
       "    <tr>\n",
       "      <th>0</th>\n",
       "      <td>TACNA</td>\n",
       "      <td>TACNA</td>\n",
       "      <td>CORONEL GREGORIO ALBARRACIN LANCHIPA</td>\n",
       "      <td>IGN</td>\n",
       "      <td>POLYGON ((-70.17413 -18.12896, -70.17461 -18.1...</td>\n",
       "    </tr>\n",
       "    <tr>\n",
       "      <th>1</th>\n",
       "      <td>TACNA</td>\n",
       "      <td>TACNA</td>\n",
       "      <td>POCOLLAY</td>\n",
       "      <td>IGN</td>\n",
       "      <td>POLYGON ((-69.93475 -17.92557, -69.90467 -17.9...</td>\n",
       "    </tr>\n",
       "    <tr>\n",
       "      <th>2</th>\n",
       "      <td>TACNA</td>\n",
       "      <td>TACNA</td>\n",
       "      <td>CALANA</td>\n",
       "      <td>IGN</td>\n",
       "      <td>POLYGON ((-70.11604 -17.91106, -70.11457 -17.9...</td>\n",
       "    </tr>\n",
       "    <tr>\n",
       "      <th>3</th>\n",
       "      <td>TACNA</td>\n",
       "      <td>TACNA</td>\n",
       "      <td>TACNA</td>\n",
       "      <td>IGN</td>\n",
       "      <td>POLYGON ((-70.31490 -17.94498, -70.30682 -17.9...</td>\n",
       "    </tr>\n",
       "    <tr>\n",
       "      <th>4</th>\n",
       "      <td>TACNA</td>\n",
       "      <td>TACNA</td>\n",
       "      <td>SAMA</td>\n",
       "      <td>IGN</td>\n",
       "      <td>POLYGON ((-70.42497 -17.88934, -70.48022 -17.9...</td>\n",
       "    </tr>\n",
       "  </tbody>\n",
       "</table>\n",
       "</div>"
      ],
      "text/plain": [
       "  DEPARTAMEN PROVINCIA                              DISTRITO INSTITUCIO  \\\n",
       "0      TACNA     TACNA  CORONEL GREGORIO ALBARRACIN LANCHIPA        IGN   \n",
       "1      TACNA     TACNA                              POCOLLAY        IGN   \n",
       "2      TACNA     TACNA                                CALANA        IGN   \n",
       "3      TACNA     TACNA                                 TACNA        IGN   \n",
       "4      TACNA     TACNA                                  SAMA        IGN   \n",
       "\n",
       "                                            geometry  \n",
       "0  POLYGON ((-70.17413 -18.12896, -70.17461 -18.1...  \n",
       "1  POLYGON ((-69.93475 -17.92557, -69.90467 -17.9...  \n",
       "2  POLYGON ((-70.11604 -17.91106, -70.11457 -17.9...  \n",
       "3  POLYGON ((-70.31490 -17.94498, -70.30682 -17.9...  \n",
       "4  POLYGON ((-70.42497 -17.88934, -70.48022 -17.9...  "
      ]
     },
     "execution_count": 3,
     "metadata": {},
     "output_type": "execute_result"
    }
   ],
   "source": [
    "# map\n",
    "\n",
    "os.environ['USE_PYGEOS'] = '0'\n",
    "\n",
    "import geopandas as gpd\n",
    "\n",
    "datadismap=gpd.read_file(os.path.join('maps','DistritosMap'))\n",
    "\n",
    "datadismap.head()"
   ]
  },
  {
   "cell_type": "code",
   "execution_count": 4,
   "id": "4f4dc88d",
   "metadata": {},
   "outputs": [],
   "source": [
    "capitalizeColumns=lambda x: x.str.upper().str.strip()\n",
    "datadis[['Provincia','Distrito']]=datadis[['Provincia','Distrito']].apply(capitalizeColumns)\n",
    "datadismap[['PROVINCIA','DISTRITO']]=datadismap[['PROVINCIA','DISTRITO']].apply(capitalizeColumns)"
   ]
  },
  {
   "cell_type": "code",
   "execution_count": 5,
   "id": "93aab94e",
   "metadata": {},
   "outputs": [],
   "source": [
    "import unidecode\n",
    "\n",
    "byePunctuation=lambda x: unidecode.unidecode(x)\n",
    "datadis[['Provincia','Distrito']]=datadis[['Provincia','Distrito']].applymap(byePunctuation)\n",
    "datadismap[['PROVINCIA','DISTRITO']]=datadismap[['PROVINCIA','DISTRITO']].applymap(byePunctuation)"
   ]
  },
  {
   "cell_type": "code",
   "execution_count": 6,
   "id": "62f2b521",
   "metadata": {},
   "outputs": [
    {
     "data": {
      "text/plain": [
       "(1874, 1874)"
      ]
     },
     "execution_count": 6,
     "metadata": {},
     "output_type": "execute_result"
    }
   ],
   "source": [
    "len(datadis.Distrito),len(datadismap.DISTRITO)"
   ]
  },
  {
   "cell_type": "code",
   "execution_count": 7,
   "id": "7d4eb250",
   "metadata": {},
   "outputs": [
    {
     "data": {
      "text/plain": [
       "(154, 152)"
      ]
     },
     "execution_count": 7,
     "metadata": {},
     "output_type": "execute_result"
    }
   ],
   "source": [
    "datadis.Distrito.duplicated().sum(),datadismap.DISTRITO.duplicated().sum()"
   ]
  },
  {
   "cell_type": "code",
   "execution_count": 8,
   "id": "fc9e2c54",
   "metadata": {},
   "outputs": [],
   "source": [
    "# concatenar \n",
    "datadis['provDist']=[\"+\".join(pd) for pd in zip (datadis.Provincia,datadis.Distrito)]\n",
    "datadismap['provDist']=[\"+\".join(pd) for pd in zip (datadismap.PROVINCIA,datadismap.DISTRITO)]"
   ]
  },
  {
   "cell_type": "code",
   "execution_count": 9,
   "id": "4aaf5464",
   "metadata": {},
   "outputs": [
    {
     "data": {
      "text/plain": [
       "0    BAGUA+ARAMANGO\n",
       "1       BAGUA+BAGUA\n",
       "2    BAGUA+COPALLIN\n",
       "3    BAGUA+EL PARCO\n",
       "4       BAGUA+IMAZA\n",
       "Name: provDist, dtype: object"
      ]
     },
     "execution_count": 9,
     "metadata": {},
     "output_type": "execute_result"
    }
   ],
   "source": [
    "# the new column looks like this:\n",
    "datadis['provDist'].head()"
   ]
  },
  {
   "cell_type": "code",
   "execution_count": 10,
   "id": "335592c8",
   "metadata": {},
   "outputs": [],
   "source": [
    "# replacing dashes and multiple spaces by a simple space\n",
    "datadis.provDist=datadis.provDist.str.replace(\"\\-|\\_|\\s+\",\" \",regex=True)\n",
    "datadismap.provDist=datadismap.provDist.str.replace(\"\\-|\\_|\\s+\",\" \",regex=True)"
   ]
  },
  {
   "cell_type": "code",
   "execution_count": 11,
   "id": "c4a82379",
   "metadata": {},
   "outputs": [],
   "source": [
    "#merging "
   ]
  },
  {
   "cell_type": "code",
   "execution_count": 12,
   "id": "86bc8179",
   "metadata": {},
   "outputs": [],
   "source": [
    "nomatch_df=set(datadis.provDist)- set(datadismap.provDist)\n",
    "nomatch_gdf=set(datadismap.provDist)-set(datadis.provDist) "
   ]
  },
  {
   "cell_type": "code",
   "execution_count": 13,
   "id": "ca3d09b7",
   "metadata": {},
   "outputs": [
    {
     "data": {
      "text/plain": [
       "(8, 8)"
      ]
     },
     "execution_count": 13,
     "metadata": {},
     "output_type": "execute_result"
    }
   ],
   "source": [
    "len(nomatch_df), len(nomatch_gdf)"
   ]
  },
  {
   "cell_type": "code",
   "execution_count": 14,
   "id": "3336fea2",
   "metadata": {},
   "outputs": [
    {
     "data": {
      "text/plain": [
       "[('ANGARAES+HUAYLLAY GRANDE', ('ANGARAES+HUALLAY GRANDE', 98)),\n",
       " ('AYMARAES+CARAYBAMBA', ('AYMARAES+CARAIBAMBA', 95)),\n",
       " ('AYMARAES+HUAYLLO', ('AYMARAES+IHUAYLLO', 97)),\n",
       " ('HUARAZ+PAMPAS', ('HUARAZ+PAMPAS GRANDE', 90)),\n",
       " ('LEONCIO PRADO+DANIEL ALOMIAS ROBLES',\n",
       "  ('LEONCIO PRADO+DANIEL ALOMIA ROBLES', 99)),\n",
       " ('LIMA+PUEBLO LIBRE', ('LIMA+MAGDALENA VIEJA', 49)),\n",
       " ('PIURA+26 DE OCTOBER', ('PIURA+VEINTISEIS DE OCTUBRE', 65)),\n",
       " ('SAN MARTIN+PAPAPLAYA', ('SAN MARTIN+PAPA PLAYA', 98))]"
      ]
     },
     "execution_count": 14,
     "metadata": {},
     "output_type": "execute_result"
    }
   ],
   "source": [
    "# pick the closest match from nomatch_gdf for a value in nomatch_df\n",
    "from thefuzz import process\n",
    "[(dis,process.extractOne(dis,nomatch_gdf)) for dis in sorted(nomatch_df)]"
   ]
  },
  {
   "cell_type": "code",
   "execution_count": 15,
   "id": "50d3775b",
   "metadata": {},
   "outputs": [
    {
     "data": {
      "text/plain": [
       "{'ANGARAES+HUAYLLAY GRANDE': 'ANGARAES+HUALLAY GRANDE',\n",
       " 'AYMARAES+CARAYBAMBA': 'AYMARAES+CARAIBAMBA',\n",
       " 'AYMARAES+HUAYLLO': 'AYMARAES+IHUAYLLO',\n",
       " 'HUARAZ+PAMPAS': 'HUARAZ+PAMPAS GRANDE',\n",
       " 'LEONCIO PRADO+DANIEL ALOMIAS ROBLES': 'LEONCIO PRADO+DANIEL ALOMIA ROBLES',\n",
       " 'LIMA+PUEBLO LIBRE': 'LIMA+MAGDALENA VIEJA',\n",
       " 'PIURA+26 DE OCTOBER': 'PIURA+VEINTISEIS DE OCTUBRE',\n",
       " 'SAN MARTIN+PAPAPLAYA': 'SAN MARTIN+PAPA PLAYA'}"
      ]
     },
     "execution_count": 15,
     "metadata": {},
     "output_type": "execute_result"
    }
   ],
   "source": [
    "# is this OK?\n",
    "{dis:process.extractOne(dis,nomatch_gdf)[0] for dis in sorted(nomatch_df)}"
   ]
  },
  {
   "cell_type": "code",
   "execution_count": 16,
   "id": "414047ed",
   "metadata": {},
   "outputs": [],
   "source": [
    "# then:\n",
    "changesDis_df={dis:process.extractOne(dis,nomatch_gdf)[0] for dis in sorted(nomatch_df)}"
   ]
  },
  {
   "cell_type": "code",
   "execution_count": 17,
   "id": "e38c0275",
   "metadata": {},
   "outputs": [],
   "source": [
    "datadis.provDist.replace(changesDis_df,inplace=True)"
   ]
  },
  {
   "cell_type": "code",
   "execution_count": 18,
   "id": "e8a42b3b",
   "metadata": {},
   "outputs": [],
   "source": [
    "datadismap=datadismap.merge(datadis, on='provDist')"
   ]
  },
  {
   "cell_type": "code",
   "execution_count": 19,
   "id": "fc262fdb",
   "metadata": {},
   "outputs": [
    {
     "name": "stdout",
     "output_type": "stream",
     "text": [
      "<class 'geopandas.geodataframe.GeoDataFrame'>\n",
      "Int64Index: 1874 entries, 0 to 1873\n",
      "Data columns (total 16 columns):\n",
      " #   Column                    Non-Null Count  Dtype   \n",
      "---  ------                    --------------  -----   \n",
      " 0   DEPARTAMEN                1874 non-null   object  \n",
      " 1   PROVINCIA                 1874 non-null   object  \n",
      " 2   DISTRITO                  1874 non-null   object  \n",
      " 3   INSTITUCIO                1874 non-null   object  \n",
      " 4   geometry                  1874 non-null   geometry\n",
      " 5   provDist                  1874 non-null   object  \n",
      " 6   Ubigeo                    1874 non-null   object  \n",
      " 7   Departamento              1874 non-null   object  \n",
      " 8   Provincia                 1874 non-null   object  \n",
      " 9   Distrito                  1874 non-null   object  \n",
      " 10  Poblacion                 1874 non-null   int64   \n",
      " 11  Superficie                1874 non-null   float64 \n",
      " 12  IDH2019                   1874 non-null   float64 \n",
      " 13  Educ_sec_comp2019_pct     1874 non-null   float64 \n",
      " 14  NBI2017_pct               1874 non-null   float64 \n",
      " 15  Viv_sin_serv_hig2017_pct  1874 non-null   float64 \n",
      "dtypes: float64(5), geometry(1), int64(1), object(9)\n",
      "memory usage: 248.9+ KB\n"
     ]
    }
   ],
   "source": [
    "# check\n",
    "datadismap.info()"
   ]
  },
  {
   "cell_type": "code",
   "execution_count": 20,
   "id": "ee20438b",
   "metadata": {},
   "outputs": [
    {
     "data": {
      "text/html": [
       "<div>\n",
       "<style scoped>\n",
       "    .dataframe tbody tr th:only-of-type {\n",
       "        vertical-align: middle;\n",
       "    }\n",
       "\n",
       "    .dataframe tbody tr th {\n",
       "        vertical-align: top;\n",
       "    }\n",
       "\n",
       "    .dataframe thead th {\n",
       "        text-align: right;\n",
       "    }\n",
       "</style>\n",
       "<table border=\"1\" class=\"dataframe\">\n",
       "  <thead>\n",
       "    <tr style=\"text-align: right;\">\n",
       "      <th></th>\n",
       "      <th>DEPARTAMEN</th>\n",
       "      <th>PROVINCIA</th>\n",
       "      <th>DISTRITO</th>\n",
       "      <th>geometry</th>\n",
       "      <th>provDist</th>\n",
       "      <th>Ubigeo</th>\n",
       "      <th>Poblacion</th>\n",
       "      <th>Superficie</th>\n",
       "      <th>IDH2019</th>\n",
       "      <th>Educ_sec_comp2019_pct</th>\n",
       "      <th>NBI2017_pct</th>\n",
       "      <th>Viv_sin_serv_hig2017_pct</th>\n",
       "    </tr>\n",
       "  </thead>\n",
       "  <tbody>\n",
       "    <tr>\n",
       "      <th>0</th>\n",
       "      <td>TACNA</td>\n",
       "      <td>TACNA</td>\n",
       "      <td>CORONEL GREGORIO ALBARRACIN LANCHIPA</td>\n",
       "      <td>POLYGON ((-70.17413 -18.12896, -70.17461 -18.1...</td>\n",
       "      <td>TACNA+CORONEL GREGORIO ALBARRACIN LANCHIPA</td>\n",
       "      <td>230110</td>\n",
       "      <td>123662</td>\n",
       "      <td>187.74</td>\n",
       "      <td>0.58</td>\n",
       "      <td>71.178389</td>\n",
       "      <td>15.8</td>\n",
       "      <td>0.8</td>\n",
       "    </tr>\n",
       "    <tr>\n",
       "      <th>1</th>\n",
       "      <td>TACNA</td>\n",
       "      <td>TACNA</td>\n",
       "      <td>POCOLLAY</td>\n",
       "      <td>POLYGON ((-69.93475 -17.92557, -69.90467 -17.9...</td>\n",
       "      <td>TACNA+POCOLLAY</td>\n",
       "      <td>230108</td>\n",
       "      <td>22319</td>\n",
       "      <td>265.65</td>\n",
       "      <td>0.65</td>\n",
       "      <td>75.825743</td>\n",
       "      <td>16.1</td>\n",
       "      <td>0.9</td>\n",
       "    </tr>\n",
       "    <tr>\n",
       "      <th>2</th>\n",
       "      <td>TACNA</td>\n",
       "      <td>TACNA</td>\n",
       "      <td>CALANA</td>\n",
       "      <td>POLYGON ((-70.11604 -17.91106, -70.11457 -17.9...</td>\n",
       "      <td>TACNA+CALANA</td>\n",
       "      <td>230103</td>\n",
       "      <td>3338</td>\n",
       "      <td>108.38</td>\n",
       "      <td>0.56</td>\n",
       "      <td>77.829717</td>\n",
       "      <td>15.9</td>\n",
       "      <td>3.3</td>\n",
       "    </tr>\n",
       "    <tr>\n",
       "      <th>3</th>\n",
       "      <td>TACNA</td>\n",
       "      <td>TACNA</td>\n",
       "      <td>TACNA</td>\n",
       "      <td>POLYGON ((-70.31490 -17.94498, -70.30682 -17.9...</td>\n",
       "      <td>TACNA+TACNA</td>\n",
       "      <td>230101</td>\n",
       "      <td>80845</td>\n",
       "      <td>1877.78</td>\n",
       "      <td>0.70</td>\n",
       "      <td>75.491958</td>\n",
       "      <td>7.4</td>\n",
       "      <td>0.6</td>\n",
       "    </tr>\n",
       "    <tr>\n",
       "      <th>4</th>\n",
       "      <td>TACNA</td>\n",
       "      <td>TACNA</td>\n",
       "      <td>SAMA</td>\n",
       "      <td>POLYGON ((-70.42497 -17.88934, -70.48022 -17.9...</td>\n",
       "      <td>TACNA+SAMA</td>\n",
       "      <td>230109</td>\n",
       "      <td>2679</td>\n",
       "      <td>1115.98</td>\n",
       "      <td>0.55</td>\n",
       "      <td>70.500250</td>\n",
       "      <td>52.4</td>\n",
       "      <td>10.8</td>\n",
       "    </tr>\n",
       "  </tbody>\n",
       "</table>\n",
       "</div>"
      ],
      "text/plain": [
       "  DEPARTAMEN PROVINCIA                              DISTRITO  \\\n",
       "0      TACNA     TACNA  CORONEL GREGORIO ALBARRACIN LANCHIPA   \n",
       "1      TACNA     TACNA                              POCOLLAY   \n",
       "2      TACNA     TACNA                                CALANA   \n",
       "3      TACNA     TACNA                                 TACNA   \n",
       "4      TACNA     TACNA                                  SAMA   \n",
       "\n",
       "                                            geometry  \\\n",
       "0  POLYGON ((-70.17413 -18.12896, -70.17461 -18.1...   \n",
       "1  POLYGON ((-69.93475 -17.92557, -69.90467 -17.9...   \n",
       "2  POLYGON ((-70.11604 -17.91106, -70.11457 -17.9...   \n",
       "3  POLYGON ((-70.31490 -17.94498, -70.30682 -17.9...   \n",
       "4  POLYGON ((-70.42497 -17.88934, -70.48022 -17.9...   \n",
       "\n",
       "                                     provDist  Ubigeo  Poblacion  Superficie  \\\n",
       "0  TACNA+CORONEL GREGORIO ALBARRACIN LANCHIPA  230110     123662      187.74   \n",
       "1                              TACNA+POCOLLAY  230108      22319      265.65   \n",
       "2                                TACNA+CALANA  230103       3338      108.38   \n",
       "3                                 TACNA+TACNA  230101      80845     1877.78   \n",
       "4                                  TACNA+SAMA  230109       2679     1115.98   \n",
       "\n",
       "   IDH2019  Educ_sec_comp2019_pct  NBI2017_pct  Viv_sin_serv_hig2017_pct  \n",
       "0     0.58              71.178389         15.8                       0.8  \n",
       "1     0.65              75.825743         16.1                       0.9  \n",
       "2     0.56              77.829717         15.9                       3.3  \n",
       "3     0.70              75.491958          7.4                       0.6  \n",
       "4     0.55              70.500250         52.4                      10.8  "
      ]
     },
     "execution_count": 20,
     "metadata": {},
     "output_type": "execute_result"
    }
   ],
   "source": [
    "bye=['Departamento', 'Provincia', 'Distrito','INSTITUCIO']\n",
    "datadismap.drop(columns=bye,inplace=True)\n",
    "\n",
    "# keeping\n",
    "datadismap.head()"
   ]
  },
  {
   "cell_type": "code",
   "execution_count": 21,
   "id": "350f1cdd",
   "metadata": {},
   "outputs": [],
   "source": [
    "datadismap.to_file(os.path.join('maps',\"dataMapPeru.gpkg\"), layer='distritos', driver=\"GPKG\")"
   ]
  },
  {
   "cell_type": "code",
   "execution_count": 22,
   "id": "1c4a0c6b",
   "metadata": {},
   "outputs": [],
   "source": [
    "#Exploring one variable"
   ]
  },
  {
   "cell_type": "code",
   "execution_count": 23,
   "id": "90f03c97",
   "metadata": {},
   "outputs": [
    {
     "data": {
      "text/plain": [
       "count    1874.000000\n",
       "mean        0.409520\n",
       "std         0.140099\n",
       "min         0.090000\n",
       "25%         0.300000\n",
       "50%         0.390000\n",
       "75%         0.510000\n",
       "max         0.850000\n",
       "Name: IDH2019, dtype: float64"
      ]
     },
     "execution_count": 23,
     "metadata": {},
     "output_type": "execute_result"
    }
   ],
   "source": [
    "# statistics\n",
    "datadismap.IDH2019.describe()"
   ]
  },
  {
   "cell_type": "code",
   "execution_count": 24,
   "id": "c4517b66",
   "metadata": {},
   "outputs": [
    {
     "data": {
      "text/plain": [
       "<seaborn.axisgrid.FacetGrid at 0x7fe048e48040>"
      ]
     },
     "execution_count": 24,
     "metadata": {},
     "output_type": "execute_result"
    },
    {
     "data": {
      "image/png": "[encoded data removed]",
      "text/plain": [
       "<Figure size 500x500 with 1 Axes>"
      ]
     },
     "metadata": {},
     "output_type": "display_data"
    }
   ],
   "source": [
    "import seaborn as sea\n",
    "\n",
    "sea.displot(datadismap.IDH2019, color='yellow')"
   ]
  },
  {
   "cell_type": "code",
   "execution_count": 25,
   "id": "fbf7ea08",
   "metadata": {},
   "outputs": [
    {
     "name": "stderr",
     "output_type": "stream",
     "text": [
      "/Users/valeriaminano/opt/anaconda3/lib/python3.9/site-packages/seaborn/_decorators.py:36: FutureWarning: Pass the following variable as a keyword arg: x. From version 0.12, the only valid positional argument will be `data`, and passing other arguments without an explicit keyword will result in an error or misinterpretation.\n",
      "  warnings.warn(\n"
     ]
    },
    {
     "data": {
      "text/plain": [
       "<AxesSubplot:xlabel='IDH2019'>"
      ]
     },
     "execution_count": 25,
     "metadata": {},
     "output_type": "execute_result"
    }
   ],
   "source": [
    "sea.boxplot(datadismap.IDH2019, color='yellow',orient='h')"
   ]
  },
  {
   "cell_type": "code",
   "execution_count": null,
   "id": "b318d4db",
   "metadata": {},
   "outputs": [],
   "source": [
    "import mapclassify \n",
    "import numpy as np\n",
    "\n",
    "np.random.seed(12345) # so we all get the same results!\n",
    "\n",
    "# let's try 5 intervals\n",
    "K=5\n",
    "# same interval width, easy interpretation\n",
    "ei5 = mapclassify.EqualInterval(datadismap['IDH2019'], k=K)\n",
    "# same interval width based on standard deviation, easy - but not as the previous one, poor when high skewness\n",
    "msd = mapclassify.StdMean(datadismap['IDH2019'])\n",
    "# interval width varies, counts per interval are close, not easy to grasp, repeated values complicate cuts                                \n",
    "q5=mapclassify.Quantiles(datadismap['IDH2019'],k=K)\n",
    "\n",
    "# based on similarity, good for multimodal data \n",
    "mb5 = mapclassify.MaximumBreaks(datadismap['IDH2019'], k=K)\n",
    "# based on similarity, good for skewed data\n",
    "ht = mapclassify.HeadTailBreaks(datadismap['IDH2019']) # no K needed\n",
    "# based on similarity, optimizer\n",
    "fj5 = mapclassify.FisherJenks(datadismap['IDH2019'], k=K)\n",
    "# based on similarity, optimizer\n",
    "jc5 = mapclassify.JenksCaspall(datadismap['IDH2019'], k=K)\n",
    "# based on similarity, optimizer\n",
    "mp5 = mapclassify.MaxP(datadismap['IDH2019'], k=K)"
   ]
  },
  {
   "cell_type": "code",
   "execution_count": null,
   "id": "c9c547f7",
   "metadata": {},
   "outputs": [],
   "source": []
  }
 ],
 "metadata": {
  "kernelspec": {
   "display_name": "Python 3 (ipykernel)",
   "language": "python",
   "name": "python3"
  },
  "language_info": {
   "codemirror_mode": {
    "name": "ipython",
    "version": 3
   },
   "file_extension": ".py",
   "mimetype": "text/x-python",
   "name": "python",
   "nbconvert_exporter": "python",
   "pygments_lexer": "ipython3",
   "version": "3.9.13"
  }
 },
 "nbformat": 4,
 "nbformat_minor": 5
}
