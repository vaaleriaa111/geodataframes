{
 "cells": [
  {
   "cell_type": "code",
   "execution_count": 32,
   "id": "f6032eec",
   "metadata": {},
   "outputs": [
    {
     "name": "stdout",
     "output_type": "stream",
     "text": [
      "Requirement already satisfied: unidecode in /Users/valeriaminano/opt/anaconda3/lib/python3.9/site-packages (1.2.0)\r\n"
     ]
    }
   ],
   "source": [
    "!pip install unidecode "
   ]
  },
  {
   "cell_type": "code",
   "execution_count": 30,
   "id": "fd68a4ea",
   "metadata": {},
   "outputs": [
    {
     "data": {
      "text/html": [
       "<div>\n",
       "<style scoped>\n",
       "    .dataframe tbody tr th:only-of-type {\n",
       "        vertical-align: middle;\n",
       "    }\n",
       "\n",
       "    .dataframe tbody tr th {\n",
       "        vertical-align: top;\n",
       "    }\n",
       "\n",
       "    .dataframe thead th {\n",
       "        text-align: right;\n",
       "    }\n",
       "</style>\n",
       "<table border=\"1\" class=\"dataframe\">\n",
       "  <thead>\n",
       "    <tr style=\"text-align: right;\">\n",
       "      <th></th>\n",
       "      <th>Ubigeo</th>\n",
       "      <th>Departamento</th>\n",
       "      <th>Provincia</th>\n",
       "      <th>Distrito</th>\n",
       "      <th>Poblacion</th>\n",
       "      <th>Superficie</th>\n",
       "      <th>IDH2019</th>\n",
       "      <th>Educ_sec_comp2019_pct</th>\n",
       "      <th>NBI2017_pct</th>\n",
       "      <th>Viv_sin_serv_hig2017_pct</th>\n",
       "    </tr>\n",
       "  </thead>\n",
       "  <tbody>\n",
       "    <tr>\n",
       "      <th>0</th>\n",
       "      <td>10202</td>\n",
       "      <td>Amazonas</td>\n",
       "      <td>Bagua</td>\n",
       "      <td>ARAMANGO</td>\n",
       "      <td>10940</td>\n",
       "      <td>809.07</td>\n",
       "      <td>0.36</td>\n",
       "      <td>37.545885</td>\n",
       "      <td>62.9</td>\n",
       "      <td>9.1</td>\n",
       "    </tr>\n",
       "    <tr>\n",
       "      <th>1</th>\n",
       "      <td>10201</td>\n",
       "      <td>Amazonas</td>\n",
       "      <td>Bagua</td>\n",
       "      <td>BAGUA</td>\n",
       "      <td>26091</td>\n",
       "      <td>150.99</td>\n",
       "      <td>0.58</td>\n",
       "      <td>70.795501</td>\n",
       "      <td>25.4</td>\n",
       "      <td>0.7</td>\n",
       "    </tr>\n",
       "    <tr>\n",
       "      <th>2</th>\n",
       "      <td>10203</td>\n",
       "      <td>Amazonas</td>\n",
       "      <td>Bagua</td>\n",
       "      <td>COPALLIN</td>\n",
       "      <td>6319</td>\n",
       "      <td>99.05</td>\n",
       "      <td>0.47</td>\n",
       "      <td>52.571361</td>\n",
       "      <td>45.4</td>\n",
       "      <td>2.1</td>\n",
       "    </tr>\n",
       "    <tr>\n",
       "      <th>3</th>\n",
       "      <td>10204</td>\n",
       "      <td>Amazonas</td>\n",
       "      <td>Bagua</td>\n",
       "      <td>EL PARCO</td>\n",
       "      <td>1492</td>\n",
       "      <td>18.48</td>\n",
       "      <td>0.49</td>\n",
       "      <td>70.215409</td>\n",
       "      <td>59.9</td>\n",
       "      <td>1.5</td>\n",
       "    </tr>\n",
       "    <tr>\n",
       "      <th>4</th>\n",
       "      <td>10205</td>\n",
       "      <td>Amazonas</td>\n",
       "      <td>Bagua</td>\n",
       "      <td>IMAZA</td>\n",
       "      <td>24323</td>\n",
       "      <td>4430.84</td>\n",
       "      <td>0.30</td>\n",
       "      <td>31.295719</td>\n",
       "      <td>88.4</td>\n",
       "      <td>11.7</td>\n",
       "    </tr>\n",
       "  </tbody>\n",
       "</table>\n",
       "</div>"
      ],
      "text/plain": [
       "  Ubigeo Departamento Provincia  Distrito  Poblacion  Superficie  IDH2019   \n",
       "0  10202     Amazonas     Bagua  ARAMANGO      10940      809.07     0.36  \\\n",
       "1  10201     Amazonas     Bagua     BAGUA      26091      150.99     0.58   \n",
       "2  10203     Amazonas     Bagua  COPALLIN       6319       99.05     0.47   \n",
       "3  10204     Amazonas     Bagua  EL PARCO       1492       18.48     0.49   \n",
       "4  10205     Amazonas     Bagua     IMAZA      24323     4430.84     0.30   \n",
       "\n",
       "   Educ_sec_comp2019_pct  NBI2017_pct  Viv_sin_serv_hig2017_pct  \n",
       "0              37.545885         62.9                       9.1  \n",
       "1              70.795501         25.4                       0.7  \n",
       "2              52.571361         45.4                       2.1  \n",
       "3              70.215409         59.9                       1.5  \n",
       "4              31.295719         88.4                      11.7  "
      ]
     },
     "execution_count": 30,
     "metadata": {},
     "output_type": "execute_result"
    }
   ],
   "source": [
    "# data table\n",
    "import pandas as pd\n",
    "import os\n",
    "\n",
    "datadis=pd.read_csv(os.path.join('data','dataPeru_indicadores_1.csv'),dtype={'Ubigeo': object})\n",
    "datadis.head() "
   ]
  },
  {
   "cell_type": "code",
   "execution_count": 31,
   "id": "60e6b771",
   "metadata": {},
   "outputs": [
    {
     "data": {
      "text/html": [
       "<div>\n",
       "<style scoped>\n",
       "    .dataframe tbody tr th:only-of-type {\n",
       "        vertical-align: middle;\n",
       "    }\n",
       "\n",
       "    .dataframe tbody tr th {\n",
       "        vertical-align: top;\n",
       "    }\n",
       "\n",
       "    .dataframe thead th {\n",
       "        text-align: right;\n",
       "    }\n",
       "</style>\n",
       "<table border=\"1\" class=\"dataframe\">\n",
       "  <thead>\n",
       "    <tr style=\"text-align: right;\">\n",
       "      <th></th>\n",
       "      <th>DEPARTAMEN</th>\n",
       "      <th>PROVINCIA</th>\n",
       "      <th>DISTRITO</th>\n",
       "      <th>INSTITUCIO</th>\n",
       "      <th>geometry</th>\n",
       "    </tr>\n",
       "  </thead>\n",
       "  <tbody>\n",
       "    <tr>\n",
       "      <th>0</th>\n",
       "      <td>TACNA</td>\n",
       "      <td>TACNA</td>\n",
       "      <td>CORONEL GREGORIO ALBARRACIN LANCHIPA</td>\n",
       "      <td>IGN</td>\n",
       "      <td>POLYGON ((-70.17413 -18.12896, -70.17461 -18.1...</td>\n",
       "    </tr>\n",
       "    <tr>\n",
       "      <th>1</th>\n",
       "      <td>TACNA</td>\n",
       "      <td>TACNA</td>\n",
       "      <td>POCOLLAY</td>\n",
       "      <td>IGN</td>\n",
       "      <td>POLYGON ((-69.93475 -17.92557, -69.90467 -17.9...</td>\n",
       "    </tr>\n",
       "    <tr>\n",
       "      <th>2</th>\n",
       "      <td>TACNA</td>\n",
       "      <td>TACNA</td>\n",
       "      <td>CALANA</td>\n",
       "      <td>IGN</td>\n",
       "      <td>POLYGON ((-70.11604 -17.91106, -70.11457 -17.9...</td>\n",
       "    </tr>\n",
       "    <tr>\n",
       "      <th>3</th>\n",
       "      <td>TACNA</td>\n",
       "      <td>TACNA</td>\n",
       "      <td>TACNA</td>\n",
       "      <td>IGN</td>\n",
       "      <td>POLYGON ((-70.31490 -17.94498, -70.30682 -17.9...</td>\n",
       "    </tr>\n",
       "    <tr>\n",
       "      <th>4</th>\n",
       "      <td>TACNA</td>\n",
       "      <td>TACNA</td>\n",
       "      <td>SAMA</td>\n",
       "      <td>IGN</td>\n",
       "      <td>POLYGON ((-70.42497 -17.88934, -70.48022 -17.9...</td>\n",
       "    </tr>\n",
       "  </tbody>\n",
       "</table>\n",
       "</div>"
      ],
      "text/plain": [
       "  DEPARTAMEN PROVINCIA                              DISTRITO INSTITUCIO   \n",
       "0      TACNA     TACNA  CORONEL GREGORIO ALBARRACIN LANCHIPA        IGN  \\\n",
       "1      TACNA     TACNA                              POCOLLAY        IGN   \n",
       "2      TACNA     TACNA                                CALANA        IGN   \n",
       "3      TACNA     TACNA                                 TACNA        IGN   \n",
       "4      TACNA     TACNA                                  SAMA        IGN   \n",
       "\n",
       "                                            geometry  \n",
       "0  POLYGON ((-70.17413 -18.12896, -70.17461 -18.1...  \n",
       "1  POLYGON ((-69.93475 -17.92557, -69.90467 -17.9...  \n",
       "2  POLYGON ((-70.11604 -17.91106, -70.11457 -17.9...  \n",
       "3  POLYGON ((-70.31490 -17.94498, -70.30682 -17.9...  \n",
       "4  POLYGON ((-70.42497 -17.88934, -70.48022 -17.9...  "
      ]
     },
     "execution_count": 31,
     "metadata": {},
     "output_type": "execute_result"
    }
   ],
   "source": [
    "# map\n",
    "\n",
    "os.environ['USE_PYGEOS'] = '0'\n",
    "\n",
    "import geopandas as gpd\n",
    "\n",
    "datadismap=gpd.read_file(os.path.join('maps','DistritosMap'))\n",
    "\n",
    "datadismap.head()"
   ]
  },
  {
   "cell_type": "code",
   "execution_count": 32,
   "id": "4f4dc88d",
   "metadata": {},
   "outputs": [],
   "source": [
    "capitalizeColumns=lambda x: x.str.upper().str.strip()\n",
    "datadis[['Provincia','Distrito']]=datadis[['Provincia','Distrito']].apply(capitalizeColumns)\n",
    "datadismap[['PROVINCIA','DISTRITO']]=datadismap[['PROVINCIA','DISTRITO']].apply(capitalizeColumns)"
   ]
  },
  {
   "cell_type": "code",
   "execution_count": 33,
   "id": "93aab94e",
   "metadata": {},
   "outputs": [],
   "source": [
    "import unidecode\n",
    "\n",
    "byePunctuation=lambda x: unidecode.unidecode(x)\n",
    "datadis[['Provincia','Distrito']]=datadis[['Provincia','Distrito']].applymap(byePunctuation)\n",
    "datadismap[['PROVINCIA','DISTRITO']]=datadismap[['PROVINCIA','DISTRITO']].applymap(byePunctuation)"
   ]
  },
  {
   "cell_type": "code",
   "execution_count": 34,
   "id": "62f2b521",
   "metadata": {},
   "outputs": [
    {
     "data": {
      "text/plain": [
       "(1874, 1874)"
      ]
     },
     "execution_count": 34,
     "metadata": {},
     "output_type": "execute_result"
    }
   ],
   "source": [
    "len(datadis.Distrito),len(datadismap.DISTRITO)"
   ]
  },
  {
   "cell_type": "code",
   "execution_count": 35,
   "id": "7d4eb250",
   "metadata": {},
   "outputs": [
    {
     "data": {
      "text/plain": [
       "(154, 152)"
      ]
     },
     "execution_count": 35,
     "metadata": {},
     "output_type": "execute_result"
    }
   ],
   "source": [
    "datadis.Distrito.duplicated().sum(),datadismap.DISTRITO.duplicated().sum()"
   ]
  },
  {
   "cell_type": "code",
   "execution_count": 36,
   "id": "fc9e2c54",
   "metadata": {},
   "outputs": [],
   "source": [
    "# concatenar \n",
    "datadis['provDist']=[\"+\".join(pd) for pd in zip (datadis.Provincia,datadis.Distrito)]\n",
    "datadismap['provDist']=[\"+\".join(pd) for pd in zip (datadismap.PROVINCIA,datadismap.DISTRITO)]"
   ]
  },
  {
   "cell_type": "code",
   "execution_count": 37,
   "id": "4aaf5464",
   "metadata": {},
   "outputs": [
    {
     "data": {
      "text/plain": [
       "0    BAGUA+ARAMANGO\n",
       "1       BAGUA+BAGUA\n",
       "2    BAGUA+COPALLIN\n",
       "3    BAGUA+EL PARCO\n",
       "4       BAGUA+IMAZA\n",
       "Name: provDist, dtype: object"
      ]
     },
     "execution_count": 37,
     "metadata": {},
     "output_type": "execute_result"
    }
   ],
   "source": [
    "# the new column looks like this:\n",
    "datadis['provDist'].head()"
   ]
  },
  {
   "cell_type": "code",
   "execution_count": 38,
   "id": "335592c8",
   "metadata": {},
   "outputs": [],
   "source": [
    "# replacing dashes and multiple spaces by a simple space\n",
    "datadis.provDist=datadis.provDist.str.replace(\"\\-|\\_|\\s+\",\" \",regex=True)\n",
    "datadismap.provDist=datadismap.provDist.str.replace(\"\\-|\\_|\\s+\",\" \",regex=True)"
   ]
  },
  {
   "cell_type": "code",
   "execution_count": 39,
   "id": "c4a82379",
   "metadata": {},
   "outputs": [],
   "source": [
    "#merging "
   ]
  },
  {
   "cell_type": "code",
   "execution_count": 40,
   "id": "86bc8179",
   "metadata": {},
   "outputs": [],
   "source": [
    "nomatch_df=set(datadis.provDist)- set(datadismap.provDist)\n",
    "nomatch_gdf=set(datadismap.provDist)-set(datadis.provDist) "
   ]
  },
  {
   "cell_type": "code",
   "execution_count": 41,
   "id": "ca3d09b7",
   "metadata": {},
   "outputs": [
    {
     "data": {
      "text/plain": [
       "(8, 8)"
      ]
     },
     "execution_count": 41,
     "metadata": {},
     "output_type": "execute_result"
    }
   ],
   "source": [
    "len(nomatch_df), len(nomatch_gdf)"
   ]
  },
  {
   "cell_type": "code",
   "execution_count": 42,
   "id": "3336fea2",
   "metadata": {},
   "outputs": [
    {
     "data": {
      "text/plain": [
       "[('ANGARAES+HUAYLLAY GRANDE', ('ANGARAES+HUALLAY GRANDE', 98)),\n",
       " ('AYMARAES+CARAYBAMBA', ('AYMARAES+CARAIBAMBA', 95)),\n",
       " ('AYMARAES+HUAYLLO', ('AYMARAES+IHUAYLLO', 97)),\n",
       " ('HUARAZ+PAMPAS', ('HUARAZ+PAMPAS GRANDE', 90)),\n",
       " ('LEONCIO PRADO+DANIEL ALOMIAS ROBLES',\n",
       "  ('LEONCIO PRADO+DANIEL ALOMIA ROBLES', 99)),\n",
       " ('LIMA+PUEBLO LIBRE', ('LIMA+MAGDALENA VIEJA', 49)),\n",
       " ('PIURA+26 DE OCTOBER', ('PIURA+VEINTISEIS DE OCTUBRE', 65)),\n",
       " ('SAN MARTIN+PAPAPLAYA', ('SAN MARTIN+PAPA PLAYA', 98))]"
      ]
     },
     "execution_count": 42,
     "metadata": {},
     "output_type": "execute_result"
    }
   ],
   "source": [
    "# pick the closest match from nomatch_gdf for a value in nomatch_df\n",
    "from thefuzz import process\n",
    "[(dis,process.extractOne(dis,nomatch_gdf)) for dis in sorted(nomatch_df)]"
   ]
  },
  {
   "cell_type": "code",
   "execution_count": 43,
   "id": "50d3775b",
   "metadata": {},
   "outputs": [
    {
     "data": {
      "text/plain": [
       "{'ANGARAES+HUAYLLAY GRANDE': 'ANGARAES+HUALLAY GRANDE',\n",
       " 'AYMARAES+CARAYBAMBA': 'AYMARAES+CARAIBAMBA',\n",
       " 'AYMARAES+HUAYLLO': 'AYMARAES+IHUAYLLO',\n",
       " 'HUARAZ+PAMPAS': 'HUARAZ+PAMPAS GRANDE',\n",
       " 'LEONCIO PRADO+DANIEL ALOMIAS ROBLES': 'LEONCIO PRADO+DANIEL ALOMIA ROBLES',\n",
       " 'LIMA+PUEBLO LIBRE': 'LIMA+MAGDALENA VIEJA',\n",
       " 'PIURA+26 DE OCTOBER': 'PIURA+VEINTISEIS DE OCTUBRE',\n",
       " 'SAN MARTIN+PAPAPLAYA': 'SAN MARTIN+PAPA PLAYA'}"
      ]
     },
     "execution_count": 43,
     "metadata": {},
     "output_type": "execute_result"
    }
   ],
   "source": [
    "# is this OK?\n",
    "{dis:process.extractOne(dis,nomatch_gdf)[0] for dis in sorted(nomatch_df)}"
   ]
  },
  {
   "cell_type": "code",
   "execution_count": 44,
   "id": "414047ed",
   "metadata": {},
   "outputs": [],
   "source": [
    "# then:\n",
    "changesDis_df={dis:process.extractOne(dis,nomatch_gdf)[0] for dis in sorted(nomatch_df)}"
   ]
  },
  {
   "cell_type": "code",
   "execution_count": 45,
   "id": "e38c0275",
   "metadata": {},
   "outputs": [],
   "source": [
    "datadis.provDist.replace(changesDis_df,inplace=True)"
   ]
  },
  {
   "cell_type": "code",
   "execution_count": 46,
   "id": "e8a42b3b",
   "metadata": {},
   "outputs": [],
   "source": [
    "datadismap=datadismap.merge(datadis, on='provDist')"
   ]
  },
  {
   "cell_type": "code",
   "execution_count": 47,
   "id": "fc262fdb",
   "metadata": {},
   "outputs": [
    {
     "name": "stdout",
     "output_type": "stream",
     "text": [
      "<class 'geopandas.geodataframe.GeoDataFrame'>\n",
      "RangeIndex: 1874 entries, 0 to 1873\n",
      "Data columns (total 16 columns):\n",
      " #   Column                    Non-Null Count  Dtype   \n",
      "---  ------                    --------------  -----   \n",
      " 0   DEPARTAMEN                1874 non-null   object  \n",
      " 1   PROVINCIA                 1874 non-null   object  \n",
      " 2   DISTRITO                  1874 non-null   object  \n",
      " 3   INSTITUCIO                1874 non-null   object  \n",
      " 4   geometry                  1874 non-null   geometry\n",
      " 5   provDist                  1874 non-null   object  \n",
      " 6   Ubigeo                    1874 non-null   object  \n",
      " 7   Departamento              1874 non-null   object  \n",
      " 8   Provincia                 1874 non-null   object  \n",
      " 9   Distrito                  1874 non-null   object  \n",
      " 10  Poblacion                 1874 non-null   int64   \n",
      " 11  Superficie                1874 non-null   float64 \n",
      " 12  IDH2019                   1874 non-null   float64 \n",
      " 13  Educ_sec_comp2019_pct     1874 non-null   float64 \n",
      " 14  NBI2017_pct               1874 non-null   float64 \n",
      " 15  Viv_sin_serv_hig2017_pct  1874 non-null   float64 \n",
      "dtypes: float64(5), geometry(1), int64(1), object(9)\n",
      "memory usage: 234.4+ KB\n"
     ]
    }
   ],
   "source": [
    "# check\n",
    "datadismap.info()"
   ]
  },
  {
   "cell_type": "code",
   "execution_count": 48,
   "id": "ee20438b",
   "metadata": {},
   "outputs": [
    {
     "data": {
      "text/html": [
       "<div>\n",
       "<style scoped>\n",
       "    .dataframe tbody tr th:only-of-type {\n",
       "        vertical-align: middle;\n",
       "    }\n",
       "\n",
       "    .dataframe tbody tr th {\n",
       "        vertical-align: top;\n",
       "    }\n",
       "\n",
       "    .dataframe thead th {\n",
       "        text-align: right;\n",
       "    }\n",
       "</style>\n",
       "<table border=\"1\" class=\"dataframe\">\n",
       "  <thead>\n",
       "    <tr style=\"text-align: right;\">\n",
       "      <th></th>\n",
       "      <th>DEPARTAMEN</th>\n",
       "      <th>PROVINCIA</th>\n",
       "      <th>DISTRITO</th>\n",
       "      <th>geometry</th>\n",
       "      <th>provDist</th>\n",
       "      <th>Ubigeo</th>\n",
       "      <th>Poblacion</th>\n",
       "      <th>Superficie</th>\n",
       "      <th>IDH2019</th>\n",
       "      <th>Educ_sec_comp2019_pct</th>\n",
       "      <th>NBI2017_pct</th>\n",
       "      <th>Viv_sin_serv_hig2017_pct</th>\n",
       "    </tr>\n",
       "  </thead>\n",
       "  <tbody>\n",
       "    <tr>\n",
       "      <th>0</th>\n",
       "      <td>TACNA</td>\n",
       "      <td>TACNA</td>\n",
       "      <td>CORONEL GREGORIO ALBARRACIN LANCHIPA</td>\n",
       "      <td>POLYGON ((-70.17413 -18.12896, -70.17461 -18.1...</td>\n",
       "      <td>TACNA+CORONEL GREGORIO ALBARRACIN LANCHIPA</td>\n",
       "      <td>230110</td>\n",
       "      <td>123662</td>\n",
       "      <td>187.74</td>\n",
       "      <td>0.58</td>\n",
       "      <td>71.178389</td>\n",
       "      <td>15.8</td>\n",
       "      <td>0.8</td>\n",
       "    </tr>\n",
       "    <tr>\n",
       "      <th>1</th>\n",
       "      <td>TACNA</td>\n",
       "      <td>TACNA</td>\n",
       "      <td>POCOLLAY</td>\n",
       "      <td>POLYGON ((-69.93475 -17.92557, -69.90467 -17.9...</td>\n",
       "      <td>TACNA+POCOLLAY</td>\n",
       "      <td>230108</td>\n",
       "      <td>22319</td>\n",
       "      <td>265.65</td>\n",
       "      <td>0.65</td>\n",
       "      <td>75.825743</td>\n",
       "      <td>16.1</td>\n",
       "      <td>0.9</td>\n",
       "    </tr>\n",
       "    <tr>\n",
       "      <th>2</th>\n",
       "      <td>TACNA</td>\n",
       "      <td>TACNA</td>\n",
       "      <td>CALANA</td>\n",
       "      <td>POLYGON ((-70.11604 -17.91106, -70.11457 -17.9...</td>\n",
       "      <td>TACNA+CALANA</td>\n",
       "      <td>230103</td>\n",
       "      <td>3338</td>\n",
       "      <td>108.38</td>\n",
       "      <td>0.56</td>\n",
       "      <td>77.829717</td>\n",
       "      <td>15.9</td>\n",
       "      <td>3.3</td>\n",
       "    </tr>\n",
       "    <tr>\n",
       "      <th>3</th>\n",
       "      <td>TACNA</td>\n",
       "      <td>TACNA</td>\n",
       "      <td>TACNA</td>\n",
       "      <td>POLYGON ((-70.31490 -17.94498, -70.30682 -17.9...</td>\n",
       "      <td>TACNA+TACNA</td>\n",
       "      <td>230101</td>\n",
       "      <td>80845</td>\n",
       "      <td>1877.78</td>\n",
       "      <td>0.70</td>\n",
       "      <td>75.491958</td>\n",
       "      <td>7.4</td>\n",
       "      <td>0.6</td>\n",
       "    </tr>\n",
       "    <tr>\n",
       "      <th>4</th>\n",
       "      <td>TACNA</td>\n",
       "      <td>TACNA</td>\n",
       "      <td>SAMA</td>\n",
       "      <td>POLYGON ((-70.42497 -17.88934, -70.48022 -17.9...</td>\n",
       "      <td>TACNA+SAMA</td>\n",
       "      <td>230109</td>\n",
       "      <td>2679</td>\n",
       "      <td>1115.98</td>\n",
       "      <td>0.55</td>\n",
       "      <td>70.500250</td>\n",
       "      <td>52.4</td>\n",
       "      <td>10.8</td>\n",
       "    </tr>\n",
       "  </tbody>\n",
       "</table>\n",
       "</div>"
      ],
      "text/plain": [
       "  DEPARTAMEN PROVINCIA                              DISTRITO   \n",
       "0      TACNA     TACNA  CORONEL GREGORIO ALBARRACIN LANCHIPA  \\\n",
       "1      TACNA     TACNA                              POCOLLAY   \n",
       "2      TACNA     TACNA                                CALANA   \n",
       "3      TACNA     TACNA                                 TACNA   \n",
       "4      TACNA     TACNA                                  SAMA   \n",
       "\n",
       "                                            geometry   \n",
       "0  POLYGON ((-70.17413 -18.12896, -70.17461 -18.1...  \\\n",
       "1  POLYGON ((-69.93475 -17.92557, -69.90467 -17.9...   \n",
       "2  POLYGON ((-70.11604 -17.91106, -70.11457 -17.9...   \n",
       "3  POLYGON ((-70.31490 -17.94498, -70.30682 -17.9...   \n",
       "4  POLYGON ((-70.42497 -17.88934, -70.48022 -17.9...   \n",
       "\n",
       "                                     provDist  Ubigeo  Poblacion  Superficie   \n",
       "0  TACNA+CORONEL GREGORIO ALBARRACIN LANCHIPA  230110     123662      187.74  \\\n",
       "1                              TACNA+POCOLLAY  230108      22319      265.65   \n",
       "2                                TACNA+CALANA  230103       3338      108.38   \n",
       "3                                 TACNA+TACNA  230101      80845     1877.78   \n",
       "4                                  TACNA+SAMA  230109       2679     1115.98   \n",
       "\n",
       "   IDH2019  Educ_sec_comp2019_pct  NBI2017_pct  Viv_sin_serv_hig2017_pct  \n",
       "0     0.58              71.178389         15.8                       0.8  \n",
       "1     0.65              75.825743         16.1                       0.9  \n",
       "2     0.56              77.829717         15.9                       3.3  \n",
       "3     0.70              75.491958          7.4                       0.6  \n",
       "4     0.55              70.500250         52.4                      10.8  "
      ]
     },
     "execution_count": 48,
     "metadata": {},
     "output_type": "execute_result"
    }
   ],
   "source": [
    "bye=['Departamento', 'Provincia', 'Distrito','INSTITUCIO']\n",
    "datadismap.drop(columns=bye,inplace=True)\n",
    "\n",
    "# keeping\n",
    "datadismap.head()"
   ]
  },
  {
   "cell_type": "code",
   "execution_count": 49,
   "id": "350f1cdd",
   "metadata": {},
   "outputs": [],
   "source": [
    "datadismap.to_file(os.path.join('maps',\"dataMapPeru.gpkg\"), layer='distritos', driver=\"GPKG\")"
   ]
  },
  {
   "cell_type": "code",
   "execution_count": 50,
   "id": "1c4a0c6b",
   "metadata": {},
   "outputs": [],
   "source": [
    "#Exploring one variable"
   ]
  },
  {
   "cell_type": "code",
   "execution_count": 51,
   "id": "90f03c97",
   "metadata": {},
   "outputs": [
    {
     "data": {
      "text/plain": [
       "count    1874.000000\n",
       "mean        0.409520\n",
       "std         0.140099\n",
       "min         0.090000\n",
       "25%         0.300000\n",
       "50%         0.390000\n",
       "75%         0.510000\n",
       "max         0.850000\n",
       "Name: IDH2019, dtype: float64"
      ]
     },
     "execution_count": 51,
     "metadata": {},
     "output_type": "execute_result"
    }
   ],
   "source": [
    "# statistics\n",
    "datadismap.IDH2019.describe()"
   ]
  },
  {
   "cell_type": "code",
   "execution_count": 52,
   "id": "c4517b66",
   "metadata": {},
   "outputs": [
    {
     "data": {
      "text/plain": [
       "<seaborn.axisgrid.FacetGrid at 0x12de0ab50>"
      ]
     },
     "execution_count": 52,
     "metadata": {},
     "output_type": "execute_result"
    },
    {
     "data": {
      "image/png": "[encoded data removed]",
      "text/plain": [
       "<Figure size 500x500 with 1 Axes>"
      ]
     },
     "metadata": {},
     "output_type": "display_data"
    }
   ],
   "source": [
    "import seaborn as sea\n",
    "\n",
    "sea.displot(datadismap.IDH2019, color='yellow')"
   ]
  },
  {
   "cell_type": "code",
   "execution_count": 53,
   "id": "fbf7ea08",
   "metadata": {},
   "outputs": [
    {
     "data": {
      "text/plain": [
       "<Axes: >"
      ]
     },
     "execution_count": 53,
     "metadata": {},
     "output_type": "execute_result"
    },
    {
     "data": {
      "image/png": "[encoded data removed]",
      "text/plain": [
       "<Figure size 640x480 with 1 Axes>"
      ]
     },
     "metadata": {},
     "output_type": "display_data"
    }
   ],
   "source": [
    "sea.boxplot(datadismap.IDH2019, color='yellow',orient='h')"
   ]
  },
  {
   "cell_type": "code",
   "execution_count": null,
   "id": "575951a6",
   "metadata": {},
   "outputs": [],
   "source": []
  },
  {
   "cell_type": "code",
   "execution_count": null,
   "id": "b318d4db",
   "metadata": {},
   "outputs": [],
   "source": []
  }
 ],
 "metadata": {
  "kernelspec": {
   "display_name": "Python 3 (ipykernel)",
   "language": "python",
   "name": "python3"
  },
  "language_info": {
   "codemirror_mode": {
    "name": "ipython",
    "version": 3
   },
   "file_extension": ".py",
   "mimetype": "text/x-python",
   "name": "python",
   "nbconvert_exporter": "python",
   "pygments_lexer": "ipython3",
   "version": "3.11.3"
  }
 },
 "nbformat": 4,
 "nbformat_minor": 5
}
