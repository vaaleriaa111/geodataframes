{
 "cells": [
  {
   "cell_type": "code",
   "execution_count": 1,
   "id": "f6032eec",
   "metadata": {},
   "outputs": [
    {
     "name": "stdout",
     "output_type": "stream",
     "text": [
      "Requirement already satisfied: unidecode in /Users/valeriaminano/opt/anaconda3/lib/python3.9/site-packages (1.2.0)\r\n"
     ]
    }
   ],
   "source": [
    "!pip install unidecode "
   ]
  },
  {
   "cell_type": "code",
   "execution_count": 2,
   "id": "575951a6",
   "metadata": {},
   "outputs": [
    {
     "name": "stdout",
     "output_type": "stream",
     "text": [
      "Requirement already satisfied: pysal in /Users/valeriaminano/opt/anaconda3/lib/python3.9/site-packages (23.1)\n",
      "Requirement already satisfied: spopt>=0.5.0 in /Users/valeriaminano/opt/anaconda3/lib/python3.9/site-packages (from pysal) (0.5.0)\n",
      "Requirement already satisfied: spglm>=1.0.8 in /Users/valeriaminano/opt/anaconda3/lib/python3.9/site-packages (from pysal) (1.0.8)\n",
      "Requirement already satisfied: giddy>=2.3.3 in /Users/valeriaminano/opt/anaconda3/lib/python3.9/site-packages (from pysal) (2.3.4)\n",
      "Requirement already satisfied: libpysal>=4.7.0 in /Users/valeriaminano/opt/anaconda3/lib/python3.9/site-packages (from pysal) (4.7.0)\n",
      "Requirement already satisfied: access>=1.1.8 in /Users/valeriaminano/opt/anaconda3/lib/python3.9/site-packages (from pysal) (1.1.9)\n",
      "Requirement already satisfied: segregation>=2.3.1 in /Users/valeriaminano/opt/anaconda3/lib/python3.9/site-packages (from pysal) (2.4.2)\n",
      "Requirement already satisfied: spaghetti>=1.7.2 in /Users/valeriaminano/opt/anaconda3/lib/python3.9/site-packages (from pysal) (1.7.4)\n",
      "Requirement already satisfied: spint>=1.0.7 in /Users/valeriaminano/opt/anaconda3/lib/python3.9/site-packages (from pysal) (1.0.7)\n",
      "Requirement already satisfied: tobler>=0.8.2 in /Users/valeriaminano/opt/anaconda3/lib/python3.9/site-packages (from pysal) (0.10)\n",
      "Requirement already satisfied: mapclassify>=2.5.0 in /Users/valeriaminano/opt/anaconda3/lib/python3.9/site-packages (from pysal) (2.5.0)\n",
      "Requirement already satisfied: inequality>=1.0.0 in /Users/valeriaminano/opt/anaconda3/lib/python3.9/site-packages (from pysal) (1.0.0)\n",
      "Requirement already satisfied: mgwr>=2.1.2 in /Users/valeriaminano/opt/anaconda3/lib/python3.9/site-packages (from pysal) (2.1.2)\n",
      "Requirement already satisfied: spreg>=1.3.0 in /Users/valeriaminano/opt/anaconda3/lib/python3.9/site-packages (from pysal) (1.3.2)\n",
      "Requirement already satisfied: momepy>=0.5.4 in /Users/valeriaminano/opt/anaconda3/lib/python3.9/site-packages (from pysal) (0.6.0)\n",
      "Requirement already satisfied: splot>=1.1.5.post1 in /Users/valeriaminano/opt/anaconda3/lib/python3.9/site-packages (from pysal) (1.1.5.post1)\n",
      "Requirement already satisfied: spvcm>=0.3.0 in /Users/valeriaminano/opt/anaconda3/lib/python3.9/site-packages (from pysal) (0.3.0)\n",
      "Requirement already satisfied: esda>=2.4.1 in /Users/valeriaminano/opt/anaconda3/lib/python3.9/site-packages (from pysal) (2.4.3)\n",
      "Requirement already satisfied: pointpats>=2.2.0 in /Users/valeriaminano/opt/anaconda3/lib/python3.9/site-packages (from pysal) (2.3.0)\n",
      "Requirement already satisfied: pandas>=0.23.4 in /Users/valeriaminano/opt/anaconda3/lib/python3.9/site-packages (from access>=1.1.8->pysal) (1.4.4)\n",
      "Requirement already satisfied: numpy>=1.3 in /Users/valeriaminano/opt/anaconda3/lib/python3.9/site-packages (from access>=1.1.8->pysal) (1.21.5)\n",
      "Requirement already satisfied: requests>=2 in /Users/valeriaminano/opt/anaconda3/lib/python3.9/site-packages (from access>=1.1.8->pysal) (2.28.1)\n",
      "Requirement already satisfied: geopandas in /Users/valeriaminano/opt/anaconda3/lib/python3.9/site-packages (from access>=1.1.8->pysal) (0.13.2)\n",
      "Requirement already satisfied: scipy>=0.11 in /Users/valeriaminano/opt/anaconda3/lib/python3.9/site-packages (from esda>=2.4.1->pysal) (1.9.1)\n",
      "Requirement already satisfied: scikit-learn in /Users/valeriaminano/opt/anaconda3/lib/python3.9/site-packages (from esda>=2.4.1->pysal) (1.0.2)\n",
      "Requirement already satisfied: quantecon>=0.4.7 in /Users/valeriaminano/opt/anaconda3/lib/python3.9/site-packages (from giddy>=2.3.3->pysal) (0.7.1)\n",
      "Requirement already satisfied: beautifulsoup4 in /Users/valeriaminano/opt/anaconda3/lib/python3.9/site-packages (from libpysal>=4.7.0->pysal) (4.11.1)\n",
      "Requirement already satisfied: packaging in /Users/valeriaminano/opt/anaconda3/lib/python3.9/site-packages (from libpysal>=4.7.0->pysal) (21.3)\n",
      "Requirement already satisfied: jinja2 in /Users/valeriaminano/opt/anaconda3/lib/python3.9/site-packages (from libpysal>=4.7.0->pysal) (2.11.3)\n",
      "Requirement already satisfied: platformdirs in /Users/valeriaminano/opt/anaconda3/lib/python3.9/site-packages (from libpysal>=4.7.0->pysal) (2.5.2)\n",
      "Requirement already satisfied: networkx in /Users/valeriaminano/opt/anaconda3/lib/python3.9/site-packages (from mapclassify>=2.5.0->pysal) (2.8.4)\n",
      "Requirement already satisfied: tqdm>=4.27.0 in /Users/valeriaminano/opt/anaconda3/lib/python3.9/site-packages (from momepy>=0.5.4->pysal) (4.64.1)\n",
      "Requirement already satisfied: shapely>=2 in /Users/valeriaminano/opt/anaconda3/lib/python3.9/site-packages (from momepy>=0.5.4->pysal) (2.0.1)\n",
      "Requirement already satisfied: matplotlib in /Users/valeriaminano/opt/anaconda3/lib/python3.9/site-packages (from pointpats>=2.2.0->pysal) (3.5.2)\n",
      "Requirement already satisfied: pyproj>=3 in /Users/valeriaminano/opt/anaconda3/lib/python3.9/site-packages (from segregation>=2.3.1->pysal) (3.6.0)\n",
      "Requirement already satisfied: joblib in /Users/valeriaminano/opt/anaconda3/lib/python3.9/site-packages (from segregation>=2.3.1->pysal) (1.1.0)\n",
      "Requirement already satisfied: numba in /Users/valeriaminano/opt/anaconda3/lib/python3.9/site-packages (from segregation>=2.3.1->pysal) (0.55.1)\n",
      "Requirement already satisfied: seaborn in /Users/valeriaminano/opt/anaconda3/lib/python3.9/site-packages (from segregation>=2.3.1->pysal) (0.11.2)\n",
      "Requirement already satisfied: deprecation in /Users/valeriaminano/opt/anaconda3/lib/python3.9/site-packages (from segregation>=2.3.1->pysal) (2.1.0)\n",
      "Requirement already satisfied: rtree in /Users/valeriaminano/opt/anaconda3/lib/python3.9/site-packages (from spaghetti>=1.7.2->pysal) (0.9.7)\n",
      "Requirement already satisfied: pulp in /Users/valeriaminano/opt/anaconda3/lib/python3.9/site-packages (from spopt>=0.5.0->pysal) (2.7.0)\n",
      "Requirement already satisfied: statsmodels in /Users/valeriaminano/opt/anaconda3/lib/python3.9/site-packages (from tobler>=0.8.2->pysal) (0.13.2)\n",
      "Requirement already satisfied: rasterio in /Users/valeriaminano/opt/anaconda3/lib/python3.9/site-packages (from tobler>=0.8.2->pysal) (1.3.8)\n",
      "Requirement already satisfied: rasterstats in /Users/valeriaminano/opt/anaconda3/lib/python3.9/site-packages (from tobler>=0.8.2->pysal) (0.19.0)\n",
      "Requirement already satisfied: fiona>=1.8.19 in /Users/valeriaminano/opt/anaconda3/lib/python3.9/site-packages (from geopandas->access>=1.1.8->pysal) (1.8.22)\n",
      "Requirement already satisfied: python-dateutil>=2.8.1 in /Users/valeriaminano/opt/anaconda3/lib/python3.9/site-packages (from pandas>=0.23.4->access>=1.1.8->pysal) (2.8.2)\n",
      "Requirement already satisfied: pytz>=2020.1 in /Users/valeriaminano/opt/anaconda3/lib/python3.9/site-packages (from pandas>=0.23.4->access>=1.1.8->pysal) (2022.1)\n",
      "Requirement already satisfied: certifi in /Users/valeriaminano/opt/anaconda3/lib/python3.9/site-packages (from pyproj>=3->segregation>=2.3.1->pysal) (2022.9.24)\n",
      "Requirement already satisfied: sympy in /Users/valeriaminano/opt/anaconda3/lib/python3.9/site-packages (from quantecon>=0.4.7->giddy>=2.3.3->pysal) (1.10.1)\n",
      "Requirement already satisfied: llvmlite<0.39,>=0.38.0rc1 in /Users/valeriaminano/opt/anaconda3/lib/python3.9/site-packages (from numba->segregation>=2.3.1->pysal) (0.38.0)\n",
      "Requirement already satisfied: setuptools in /Users/valeriaminano/opt/anaconda3/lib/python3.9/site-packages (from numba->segregation>=2.3.1->pysal) (63.4.1)\n",
      "Requirement already satisfied: idna<4,>=2.5 in /Users/valeriaminano/opt/anaconda3/lib/python3.9/site-packages (from requests>=2->access>=1.1.8->pysal) (3.3)\n",
      "Requirement already satisfied: urllib3<1.27,>=1.21.1 in /Users/valeriaminano/opt/anaconda3/lib/python3.9/site-packages (from requests>=2->access>=1.1.8->pysal) (1.26.11)\n",
      "Requirement already satisfied: charset-normalizer<3,>=2 in /Users/valeriaminano/opt/anaconda3/lib/python3.9/site-packages (from requests>=2->access>=1.1.8->pysal) (2.0.4)\n",
      "Requirement already satisfied: threadpoolctl>=2.0.0 in /Users/valeriaminano/opt/anaconda3/lib/python3.9/site-packages (from scikit-learn->esda>=2.4.1->pysal) (2.2.0)\n",
      "Requirement already satisfied: soupsieve>1.2 in /Users/valeriaminano/opt/anaconda3/lib/python3.9/site-packages (from beautifulsoup4->libpysal>=4.7.0->pysal) (2.3.1)\n",
      "Requirement already satisfied: MarkupSafe>=0.23 in /Users/valeriaminano/opt/anaconda3/lib/python3.9/site-packages (from jinja2->libpysal>=4.7.0->pysal) (2.0.1)\n"
     ]
    },
    {
     "name": "stdout",
     "output_type": "stream",
     "text": [
      "Requirement already satisfied: fonttools>=4.22.0 in /Users/valeriaminano/opt/anaconda3/lib/python3.9/site-packages (from matplotlib->pointpats>=2.2.0->pysal) (4.25.0)\n",
      "Requirement already satisfied: pillow>=6.2.0 in /Users/valeriaminano/opt/anaconda3/lib/python3.9/site-packages (from matplotlib->pointpats>=2.2.0->pysal) (9.2.0)\n",
      "Requirement already satisfied: pyparsing>=2.2.1 in /Users/valeriaminano/opt/anaconda3/lib/python3.9/site-packages (from matplotlib->pointpats>=2.2.0->pysal) (3.0.9)\n",
      "Requirement already satisfied: cycler>=0.10 in /Users/valeriaminano/opt/anaconda3/lib/python3.9/site-packages (from matplotlib->pointpats>=2.2.0->pysal) (0.11.0)\n",
      "Requirement already satisfied: kiwisolver>=1.0.1 in /Users/valeriaminano/opt/anaconda3/lib/python3.9/site-packages (from matplotlib->pointpats>=2.2.0->pysal) (1.4.2)\n",
      "Requirement already satisfied: affine in /Users/valeriaminano/opt/anaconda3/lib/python3.9/site-packages (from rasterio->tobler>=0.8.2->pysal) (2.4.0)\n",
      "Requirement already satisfied: click-plugins in /Users/valeriaminano/opt/anaconda3/lib/python3.9/site-packages (from rasterio->tobler>=0.8.2->pysal) (1.1.1)\n",
      "Requirement already satisfied: cligj>=0.5 in /Users/valeriaminano/opt/anaconda3/lib/python3.9/site-packages (from rasterio->tobler>=0.8.2->pysal) (0.7.2)\n",
      "Requirement already satisfied: snuggs>=1.4.1 in /Users/valeriaminano/opt/anaconda3/lib/python3.9/site-packages (from rasterio->tobler>=0.8.2->pysal) (1.4.7)\n",
      "Requirement already satisfied: click>=4.0 in /Users/valeriaminano/opt/anaconda3/lib/python3.9/site-packages (from rasterio->tobler>=0.8.2->pysal) (8.0.4)\n",
      "Requirement already satisfied: attrs in /Users/valeriaminano/opt/anaconda3/lib/python3.9/site-packages (from rasterio->tobler>=0.8.2->pysal) (21.4.0)\n",
      "Requirement already satisfied: simplejson in /Users/valeriaminano/opt/anaconda3/lib/python3.9/site-packages (from rasterstats->tobler>=0.8.2->pysal) (3.19.1)\n",
      "Requirement already satisfied: patsy>=0.5.2 in /Users/valeriaminano/opt/anaconda3/lib/python3.9/site-packages (from statsmodels->tobler>=0.8.2->pysal) (0.5.2)\n",
      "Requirement already satisfied: six>=1.7 in /Users/valeriaminano/opt/anaconda3/lib/python3.9/site-packages (from fiona>=1.8.19->geopandas->access>=1.1.8->pysal) (1.16.0)\n",
      "Requirement already satisfied: munch in /Users/valeriaminano/opt/anaconda3/lib/python3.9/site-packages (from fiona>=1.8.19->geopandas->access>=1.1.8->pysal) (2.5.0)\n",
      "Requirement already satisfied: mpmath>=0.19 in /Users/valeriaminano/opt/anaconda3/lib/python3.9/site-packages (from sympy->quantecon>=0.4.7->giddy>=2.3.3->pysal) (1.2.1)\n"
     ]
    }
   ],
   "source": [
    "!pip install pysal "
   ]
  },
  {
   "cell_type": "code",
   "execution_count": 3,
   "id": "cc17e8b6",
   "metadata": {},
   "outputs": [
    {
     "name": "stdout",
     "output_type": "stream",
     "text": [
      "Requirement already satisfied: mapclassify in /Users/valeriaminano/opt/anaconda3/lib/python3.9/site-packages (2.5.0)\n",
      "Requirement already satisfied: numpy>=1.3 in /Users/valeriaminano/opt/anaconda3/lib/python3.9/site-packages (from mapclassify) (1.21.5)\n",
      "Requirement already satisfied: pandas>=1.0 in /Users/valeriaminano/opt/anaconda3/lib/python3.9/site-packages (from mapclassify) (1.4.4)\n",
      "Requirement already satisfied: scikit-learn in /Users/valeriaminano/opt/anaconda3/lib/python3.9/site-packages (from mapclassify) (1.0.2)\n",
      "Requirement already satisfied: networkx in /Users/valeriaminano/opt/anaconda3/lib/python3.9/site-packages (from mapclassify) (2.8.4)\n",
      "Requirement already satisfied: scipy>=1.0 in /Users/valeriaminano/opt/anaconda3/lib/python3.9/site-packages (from mapclassify) (1.9.1)\n",
      "Requirement already satisfied: python-dateutil>=2.8.1 in /Users/valeriaminano/opt/anaconda3/lib/python3.9/site-packages (from pandas>=1.0->mapclassify) (2.8.2)\n",
      "Requirement already satisfied: pytz>=2020.1 in /Users/valeriaminano/opt/anaconda3/lib/python3.9/site-packages (from pandas>=1.0->mapclassify) (2022.1)\n",
      "Requirement already satisfied: threadpoolctl>=2.0.0 in /Users/valeriaminano/opt/anaconda3/lib/python3.9/site-packages (from scikit-learn->mapclassify) (2.2.0)\n",
      "Requirement already satisfied: joblib>=0.11 in /Users/valeriaminano/opt/anaconda3/lib/python3.9/site-packages (from scikit-learn->mapclassify) (1.1.0)\n",
      "Requirement already satisfied: six>=1.5 in /Users/valeriaminano/opt/anaconda3/lib/python3.9/site-packages (from python-dateutil>=2.8.1->pandas>=1.0->mapclassify) (1.16.0)\n"
     ]
    }
   ],
   "source": [
    "!pip install mapclassify"
   ]
  },
  {
   "cell_type": "code",
   "execution_count": 4,
   "id": "ad24b4f4",
   "metadata": {},
   "outputs": [
    {
     "name": "stdout",
     "output_type": "stream",
     "text": [
      "Requirement already satisfied: numpy in /Users/valeriaminano/opt/anaconda3/lib/python3.9/site-packages (1.21.5)\r\n"
     ]
    }
   ],
   "source": [
    "!pip install numpy "
   ]
  },
  {
   "cell_type": "code",
   "execution_count": 5,
   "id": "fd68a4ea",
   "metadata": {},
   "outputs": [
    {
     "data": {
      "text/html": [
       "<div>\n",
       "<style scoped>\n",
       "    .dataframe tbody tr th:only-of-type {\n",
       "        vertical-align: middle;\n",
       "    }\n",
       "\n",
       "    .dataframe tbody tr th {\n",
       "        vertical-align: top;\n",
       "    }\n",
       "\n",
       "    .dataframe thead th {\n",
       "        text-align: right;\n",
       "    }\n",
       "</style>\n",
       "<table border=\"1\" class=\"dataframe\">\n",
       "  <thead>\n",
       "    <tr style=\"text-align: right;\">\n",
       "      <th></th>\n",
       "      <th>Ubigeo</th>\n",
       "      <th>Departamento</th>\n",
       "      <th>Provincia</th>\n",
       "      <th>Distrito</th>\n",
       "      <th>Poblacion</th>\n",
       "      <th>Superficie</th>\n",
       "      <th>IDH2019</th>\n",
       "      <th>Educ_sec_comp2019_pct</th>\n",
       "      <th>NBI2017_pct</th>\n",
       "      <th>Viv_sin_serv_hig2017_pct</th>\n",
       "    </tr>\n",
       "  </thead>\n",
       "  <tbody>\n",
       "    <tr>\n",
       "      <th>0</th>\n",
       "      <td>10202</td>\n",
       "      <td>Amazonas</td>\n",
       "      <td>Bagua</td>\n",
       "      <td>ARAMANGO</td>\n",
       "      <td>10940</td>\n",
       "      <td>809.07</td>\n",
       "      <td>0.36</td>\n",
       "      <td>37.545885</td>\n",
       "      <td>62.9</td>\n",
       "      <td>9.1</td>\n",
       "    </tr>\n",
       "    <tr>\n",
       "      <th>1</th>\n",
       "      <td>10201</td>\n",
       "      <td>Amazonas</td>\n",
       "      <td>Bagua</td>\n",
       "      <td>BAGUA</td>\n",
       "      <td>26091</td>\n",
       "      <td>150.99</td>\n",
       "      <td>0.58</td>\n",
       "      <td>70.795501</td>\n",
       "      <td>25.4</td>\n",
       "      <td>0.7</td>\n",
       "    </tr>\n",
       "    <tr>\n",
       "      <th>2</th>\n",
       "      <td>10203</td>\n",
       "      <td>Amazonas</td>\n",
       "      <td>Bagua</td>\n",
       "      <td>COPALLIN</td>\n",
       "      <td>6319</td>\n",
       "      <td>99.05</td>\n",
       "      <td>0.47</td>\n",
       "      <td>52.571361</td>\n",
       "      <td>45.4</td>\n",
       "      <td>2.1</td>\n",
       "    </tr>\n",
       "    <tr>\n",
       "      <th>3</th>\n",
       "      <td>10204</td>\n",
       "      <td>Amazonas</td>\n",
       "      <td>Bagua</td>\n",
       "      <td>EL PARCO</td>\n",
       "      <td>1492</td>\n",
       "      <td>18.48</td>\n",
       "      <td>0.49</td>\n",
       "      <td>70.215409</td>\n",
       "      <td>59.9</td>\n",
       "      <td>1.5</td>\n",
       "    </tr>\n",
       "    <tr>\n",
       "      <th>4</th>\n",
       "      <td>10205</td>\n",
       "      <td>Amazonas</td>\n",
       "      <td>Bagua</td>\n",
       "      <td>IMAZA</td>\n",
       "      <td>24323</td>\n",
       "      <td>4430.84</td>\n",
       "      <td>0.30</td>\n",
       "      <td>31.295719</td>\n",
       "      <td>88.4</td>\n",
       "      <td>11.7</td>\n",
       "    </tr>\n",
       "  </tbody>\n",
       "</table>\n",
       "</div>"
      ],
      "text/plain": [
       "  Ubigeo Departamento Provincia  Distrito  Poblacion  Superficie  IDH2019  \\\n",
       "0  10202     Amazonas     Bagua  ARAMANGO      10940      809.07     0.36   \n",
       "1  10201     Amazonas     Bagua     BAGUA      26091      150.99     0.58   \n",
       "2  10203     Amazonas     Bagua  COPALLIN       6319       99.05     0.47   \n",
       "3  10204     Amazonas     Bagua  EL PARCO       1492       18.48     0.49   \n",
       "4  10205     Amazonas     Bagua     IMAZA      24323     4430.84     0.30   \n",
       "\n",
       "   Educ_sec_comp2019_pct  NBI2017_pct  Viv_sin_serv_hig2017_pct  \n",
       "0              37.545885         62.9                       9.1  \n",
       "1              70.795501         25.4                       0.7  \n",
       "2              52.571361         45.4                       2.1  \n",
       "3              70.215409         59.9                       1.5  \n",
       "4              31.295719         88.4                      11.7  "
      ]
     },
     "execution_count": 5,
     "metadata": {},
     "output_type": "execute_result"
    }
   ],
   "source": [
    "# data table\n",
    "import pandas as pd\n",
    "import os\n",
    "\n",
    "datadis=pd.read_csv(os.path.join('data','dataPeru_indicadores_1.csv'),dtype={'Ubigeo': object})\n",
    "datadis.head() "
   ]
  },
  {
   "cell_type": "code",
   "execution_count": 6,
   "id": "60e6b771",
   "metadata": {},
   "outputs": [
    {
     "data": {
      "text/html": [
       "<div>\n",
       "<style scoped>\n",
       "    .dataframe tbody tr th:only-of-type {\n",
       "        vertical-align: middle;\n",
       "    }\n",
       "\n",
       "    .dataframe tbody tr th {\n",
       "        vertical-align: top;\n",
       "    }\n",
       "\n",
       "    .dataframe thead th {\n",
       "        text-align: right;\n",
       "    }\n",
       "</style>\n",
       "<table border=\"1\" class=\"dataframe\">\n",
       "  <thead>\n",
       "    <tr style=\"text-align: right;\">\n",
       "      <th></th>\n",
       "      <th>DEPARTAMEN</th>\n",
       "      <th>PROVINCIA</th>\n",
       "      <th>DISTRITO</th>\n",
       "      <th>INSTITUCIO</th>\n",
       "      <th>geometry</th>\n",
       "    </tr>\n",
       "  </thead>\n",
       "  <tbody>\n",
       "    <tr>\n",
       "      <th>0</th>\n",
       "      <td>TACNA</td>\n",
       "      <td>TACNA</td>\n",
       "      <td>CORONEL GREGORIO ALBARRACIN LANCHIPA</td>\n",
       "      <td>IGN</td>\n",
       "      <td>POLYGON ((-70.17413 -18.12896, -70.17461 -18.1...</td>\n",
       "    </tr>\n",
       "    <tr>\n",
       "      <th>1</th>\n",
       "      <td>TACNA</td>\n",
       "      <td>TACNA</td>\n",
       "      <td>POCOLLAY</td>\n",
       "      <td>IGN</td>\n",
       "      <td>POLYGON ((-69.93475 -17.92557, -69.90467 -17.9...</td>\n",
       "    </tr>\n",
       "    <tr>\n",
       "      <th>2</th>\n",
       "      <td>TACNA</td>\n",
       "      <td>TACNA</td>\n",
       "      <td>CALANA</td>\n",
       "      <td>IGN</td>\n",
       "      <td>POLYGON ((-70.11604 -17.91106, -70.11457 -17.9...</td>\n",
       "    </tr>\n",
       "    <tr>\n",
       "      <th>3</th>\n",
       "      <td>TACNA</td>\n",
       "      <td>TACNA</td>\n",
       "      <td>TACNA</td>\n",
       "      <td>IGN</td>\n",
       "      <td>POLYGON ((-70.31490 -17.94498, -70.30682 -17.9...</td>\n",
       "    </tr>\n",
       "    <tr>\n",
       "      <th>4</th>\n",
       "      <td>TACNA</td>\n",
       "      <td>TACNA</td>\n",
       "      <td>SAMA</td>\n",
       "      <td>IGN</td>\n",
       "      <td>POLYGON ((-70.42497 -17.88934, -70.48022 -17.9...</td>\n",
       "    </tr>\n",
       "  </tbody>\n",
       "</table>\n",
       "</div>"
      ],
      "text/plain": [
       "  DEPARTAMEN PROVINCIA                              DISTRITO INSTITUCIO  \\\n",
       "0      TACNA     TACNA  CORONEL GREGORIO ALBARRACIN LANCHIPA        IGN   \n",
       "1      TACNA     TACNA                              POCOLLAY        IGN   \n",
       "2      TACNA     TACNA                                CALANA        IGN   \n",
       "3      TACNA     TACNA                                 TACNA        IGN   \n",
       "4      TACNA     TACNA                                  SAMA        IGN   \n",
       "\n",
       "                                            geometry  \n",
       "0  POLYGON ((-70.17413 -18.12896, -70.17461 -18.1...  \n",
       "1  POLYGON ((-69.93475 -17.92557, -69.90467 -17.9...  \n",
       "2  POLYGON ((-70.11604 -17.91106, -70.11457 -17.9...  \n",
       "3  POLYGON ((-70.31490 -17.94498, -70.30682 -17.9...  \n",
       "4  POLYGON ((-70.42497 -17.88934, -70.48022 -17.9...  "
      ]
     },
     "execution_count": 6,
     "metadata": {},
     "output_type": "execute_result"
    }
   ],
   "source": [
    "# map\n",
    "\n",
    "os.environ['USE_PYGEOS'] = '0'\n",
    "\n",
    "import geopandas as gpd\n",
    "\n",
    "datadismap=gpd.read_file(os.path.join('maps','DistritosMap'))\n",
    "\n",
    "datadismap.head()"
   ]
  },
  {
   "cell_type": "code",
   "execution_count": 7,
   "id": "4f4dc88d",
   "metadata": {},
   "outputs": [],
   "source": [
    "capitalizeColumns=lambda x: x.str.upper().str.strip()\n",
    "datadis[['Provincia','Distrito']]=datadis[['Provincia','Distrito']].apply(capitalizeColumns)\n",
    "datadismap[['PROVINCIA','DISTRITO']]=datadismap[['PROVINCIA','DISTRITO']].apply(capitalizeColumns)"
   ]
  },
  {
   "cell_type": "code",
   "execution_count": 8,
   "id": "93aab94e",
   "metadata": {},
   "outputs": [],
   "source": [
    "import unidecode\n",
    "\n",
    "byePunctuation=lambda x: unidecode.unidecode(x)\n",
    "datadis[['Provincia','Distrito']]=datadis[['Provincia','Distrito']].applymap(byePunctuation)\n",
    "datadismap[['PROVINCIA','DISTRITO']]=datadismap[['PROVINCIA','DISTRITO']].applymap(byePunctuation)"
   ]
  },
  {
   "cell_type": "code",
   "execution_count": 9,
   "id": "62f2b521",
   "metadata": {},
   "outputs": [
    {
     "data": {
      "text/plain": [
       "(1874, 1874)"
      ]
     },
     "execution_count": 9,
     "metadata": {},
     "output_type": "execute_result"
    }
   ],
   "source": [
    "len(datadis.Distrito),len(datadismap.DISTRITO)"
   ]
  },
  {
   "cell_type": "code",
   "execution_count": 10,
   "id": "7d4eb250",
   "metadata": {},
   "outputs": [
    {
     "data": {
      "text/plain": [
       "(154, 152)"
      ]
     },
     "execution_count": 10,
     "metadata": {},
     "output_type": "execute_result"
    }
   ],
   "source": [
    "datadis.Distrito.duplicated().sum(),datadismap.DISTRITO.duplicated().sum()"
   ]
  },
  {
   "cell_type": "code",
   "execution_count": 11,
   "id": "fc9e2c54",
   "metadata": {},
   "outputs": [],
   "source": [
    "# concatenar \n",
    "datadis['provDist']=[\"+\".join(pd) for pd in zip (datadis.Provincia,datadis.Distrito)]\n",
    "datadismap['provDist']=[\"+\".join(pd) for pd in zip (datadismap.PROVINCIA,datadismap.DISTRITO)]"
   ]
  },
  {
   "cell_type": "code",
   "execution_count": 12,
   "id": "4aaf5464",
   "metadata": {},
   "outputs": [
    {
     "data": {
      "text/plain": [
       "0    BAGUA+ARAMANGO\n",
       "1       BAGUA+BAGUA\n",
       "2    BAGUA+COPALLIN\n",
       "3    BAGUA+EL PARCO\n",
       "4       BAGUA+IMAZA\n",
       "Name: provDist, dtype: object"
      ]
     },
     "execution_count": 12,
     "metadata": {},
     "output_type": "execute_result"
    }
   ],
   "source": [
    "# the new column looks like this:\n",
    "datadis['provDist'].head()"
   ]
  },
  {
   "cell_type": "code",
   "execution_count": 13,
   "id": "335592c8",
   "metadata": {},
   "outputs": [],
   "source": [
    "# replacing dashes and multiple spaces by a simple space\n",
    "datadis.provDist=datadis.provDist.str.replace(\"\\-|\\_|\\s+\",\" \",regex=True)\n",
    "datadismap.provDist=datadismap.provDist.str.replace(\"\\-|\\_|\\s+\",\" \",regex=True)"
   ]
  },
  {
   "cell_type": "code",
   "execution_count": 14,
   "id": "c4a82379",
   "metadata": {},
   "outputs": [],
   "source": [
    "#merging "
   ]
  },
  {
   "cell_type": "code",
   "execution_count": 15,
   "id": "86bc8179",
   "metadata": {},
   "outputs": [],
   "source": [
    "nomatch_df=set(datadis.provDist)- set(datadismap.provDist)\n",
    "nomatch_gdf=set(datadismap.provDist)-set(datadis.provDist) "
   ]
  },
  {
   "cell_type": "code",
   "execution_count": 16,
   "id": "ca3d09b7",
   "metadata": {},
   "outputs": [
    {
     "data": {
      "text/plain": [
       "(8, 8)"
      ]
     },
     "execution_count": 16,
     "metadata": {},
     "output_type": "execute_result"
    }
   ],
   "source": [
    "len(nomatch_df), len(nomatch_gdf)"
   ]
  },
  {
   "cell_type": "code",
   "execution_count": 17,
   "id": "3336fea2",
   "metadata": {},
   "outputs": [
    {
     "data": {
      "text/plain": [
       "[('ANGARAES+HUAYLLAY GRANDE', ('ANGARAES+HUALLAY GRANDE', 98)),\n",
       " ('AYMARAES+CARAYBAMBA', ('AYMARAES+CARAIBAMBA', 95)),\n",
       " ('AYMARAES+HUAYLLO', ('AYMARAES+IHUAYLLO', 97)),\n",
       " ('HUARAZ+PAMPAS', ('HUARAZ+PAMPAS GRANDE', 90)),\n",
       " ('LEONCIO PRADO+DANIEL ALOMIAS ROBLES',\n",
       "  ('LEONCIO PRADO+DANIEL ALOMIA ROBLES', 99)),\n",
       " ('LIMA+PUEBLO LIBRE', ('LIMA+MAGDALENA VIEJA', 49)),\n",
       " ('PIURA+26 DE OCTOBER', ('PIURA+VEINTISEIS DE OCTUBRE', 65)),\n",
       " ('SAN MARTIN+PAPAPLAYA', ('SAN MARTIN+PAPA PLAYA', 98))]"
      ]
     },
     "execution_count": 17,
     "metadata": {},
     "output_type": "execute_result"
    }
   ],
   "source": [
    "# pick the closest match from nomatch_gdf for a value in nomatch_df\n",
    "from thefuzz import process\n",
    "[(dis,process.extractOne(dis,nomatch_gdf)) for dis in sorted(nomatch_df)]"
   ]
  },
  {
   "cell_type": "code",
   "execution_count": 18,
   "id": "50d3775b",
   "metadata": {},
   "outputs": [
    {
     "data": {
      "text/plain": [
       "{'ANGARAES+HUAYLLAY GRANDE': 'ANGARAES+HUALLAY GRANDE',\n",
       " 'AYMARAES+CARAYBAMBA': 'AYMARAES+CARAIBAMBA',\n",
       " 'AYMARAES+HUAYLLO': 'AYMARAES+IHUAYLLO',\n",
       " 'HUARAZ+PAMPAS': 'HUARAZ+PAMPAS GRANDE',\n",
       " 'LEONCIO PRADO+DANIEL ALOMIAS ROBLES': 'LEONCIO PRADO+DANIEL ALOMIA ROBLES',\n",
       " 'LIMA+PUEBLO LIBRE': 'LIMA+MAGDALENA VIEJA',\n",
       " 'PIURA+26 DE OCTOBER': 'PIURA+VEINTISEIS DE OCTUBRE',\n",
       " 'SAN MARTIN+PAPAPLAYA': 'SAN MARTIN+PAPA PLAYA'}"
      ]
     },
     "execution_count": 18,
     "metadata": {},
     "output_type": "execute_result"
    }
   ],
   "source": [
    "# is this OK?\n",
    "{dis:process.extractOne(dis,nomatch_gdf)[0] for dis in sorted(nomatch_df)}"
   ]
  },
  {
   "cell_type": "code",
   "execution_count": 19,
   "id": "414047ed",
   "metadata": {},
   "outputs": [],
   "source": [
    "# then:\n",
    "changesDis_df={dis:process.extractOne(dis,nomatch_gdf)[0] for dis in sorted(nomatch_df)}"
   ]
  },
  {
   "cell_type": "code",
   "execution_count": 20,
   "id": "e38c0275",
   "metadata": {},
   "outputs": [],
   "source": [
    "datadis.provDist.replace(changesDis_df,inplace=True)"
   ]
  },
  {
   "cell_type": "code",
   "execution_count": 21,
   "id": "e8a42b3b",
   "metadata": {},
   "outputs": [],
   "source": [
    "datadismap=datadismap.merge(datadis, on='provDist')"
   ]
  },
  {
   "cell_type": "code",
   "execution_count": 22,
   "id": "fc262fdb",
   "metadata": {},
   "outputs": [
    {
     "name": "stdout",
     "output_type": "stream",
     "text": [
      "<class 'geopandas.geodataframe.GeoDataFrame'>\n",
      "Int64Index: 1874 entries, 0 to 1873\n",
      "Data columns (total 16 columns):\n",
      " #   Column                    Non-Null Count  Dtype   \n",
      "---  ------                    --------------  -----   \n",
      " 0   DEPARTAMEN                1874 non-null   object  \n",
      " 1   PROVINCIA                 1874 non-null   object  \n",
      " 2   DISTRITO                  1874 non-null   object  \n",
      " 3   INSTITUCIO                1874 non-null   object  \n",
      " 4   geometry                  1874 non-null   geometry\n",
      " 5   provDist                  1874 non-null   object  \n",
      " 6   Ubigeo                    1874 non-null   object  \n",
      " 7   Departamento              1874 non-null   object  \n",
      " 8   Provincia                 1874 non-null   object  \n",
      " 9   Distrito                  1874 non-null   object  \n",
      " 10  Poblacion                 1874 non-null   int64   \n",
      " 11  Superficie                1874 non-null   float64 \n",
      " 12  IDH2019                   1874 non-null   float64 \n",
      " 13  Educ_sec_comp2019_pct     1874 non-null   float64 \n",
      " 14  NBI2017_pct               1874 non-null   float64 \n",
      " 15  Viv_sin_serv_hig2017_pct  1874 non-null   float64 \n",
      "dtypes: float64(5), geometry(1), int64(1), object(9)\n",
      "memory usage: 248.9+ KB\n"
     ]
    }
   ],
   "source": [
    "# check\n",
    "datadismap.info()"
   ]
  },
  {
   "cell_type": "code",
   "execution_count": 23,
   "id": "ee20438b",
   "metadata": {},
   "outputs": [
    {
     "data": {
      "text/html": [
       "<div>\n",
       "<style scoped>\n",
       "    .dataframe tbody tr th:only-of-type {\n",
       "        vertical-align: middle;\n",
       "    }\n",
       "\n",
       "    .dataframe tbody tr th {\n",
       "        vertical-align: top;\n",
       "    }\n",
       "\n",
       "    .dataframe thead th {\n",
       "        text-align: right;\n",
       "    }\n",
       "</style>\n",
       "<table border=\"1\" class=\"dataframe\">\n",
       "  <thead>\n",
       "    <tr style=\"text-align: right;\">\n",
       "      <th></th>\n",
       "      <th>DEPARTAMEN</th>\n",
       "      <th>PROVINCIA</th>\n",
       "      <th>DISTRITO</th>\n",
       "      <th>geometry</th>\n",
       "      <th>provDist</th>\n",
       "      <th>Ubigeo</th>\n",
       "      <th>Poblacion</th>\n",
       "      <th>Superficie</th>\n",
       "      <th>IDH2019</th>\n",
       "      <th>Educ_sec_comp2019_pct</th>\n",
       "      <th>NBI2017_pct</th>\n",
       "      <th>Viv_sin_serv_hig2017_pct</th>\n",
       "    </tr>\n",
       "  </thead>\n",
       "  <tbody>\n",
       "    <tr>\n",
       "      <th>0</th>\n",
       "      <td>TACNA</td>\n",
       "      <td>TACNA</td>\n",
       "      <td>CORONEL GREGORIO ALBARRACIN LANCHIPA</td>\n",
       "      <td>POLYGON ((-70.17413 -18.12896, -70.17461 -18.1...</td>\n",
       "      <td>TACNA+CORONEL GREGORIO ALBARRACIN LANCHIPA</td>\n",
       "      <td>230110</td>\n",
       "      <td>123662</td>\n",
       "      <td>187.74</td>\n",
       "      <td>0.58</td>\n",
       "      <td>71.178389</td>\n",
       "      <td>15.8</td>\n",
       "      <td>0.8</td>\n",
       "    </tr>\n",
       "    <tr>\n",
       "      <th>1</th>\n",
       "      <td>TACNA</td>\n",
       "      <td>TACNA</td>\n",
       "      <td>POCOLLAY</td>\n",
       "      <td>POLYGON ((-69.93475 -17.92557, -69.90467 -17.9...</td>\n",
       "      <td>TACNA+POCOLLAY</td>\n",
       "      <td>230108</td>\n",
       "      <td>22319</td>\n",
       "      <td>265.65</td>\n",
       "      <td>0.65</td>\n",
       "      <td>75.825743</td>\n",
       "      <td>16.1</td>\n",
       "      <td>0.9</td>\n",
       "    </tr>\n",
       "    <tr>\n",
       "      <th>2</th>\n",
       "      <td>TACNA</td>\n",
       "      <td>TACNA</td>\n",
       "      <td>CALANA</td>\n",
       "      <td>POLYGON ((-70.11604 -17.91106, -70.11457 -17.9...</td>\n",
       "      <td>TACNA+CALANA</td>\n",
       "      <td>230103</td>\n",
       "      <td>3338</td>\n",
       "      <td>108.38</td>\n",
       "      <td>0.56</td>\n",
       "      <td>77.829717</td>\n",
       "      <td>15.9</td>\n",
       "      <td>3.3</td>\n",
       "    </tr>\n",
       "    <tr>\n",
       "      <th>3</th>\n",
       "      <td>TACNA</td>\n",
       "      <td>TACNA</td>\n",
       "      <td>TACNA</td>\n",
       "      <td>POLYGON ((-70.31490 -17.94498, -70.30682 -17.9...</td>\n",
       "      <td>TACNA+TACNA</td>\n",
       "      <td>230101</td>\n",
       "      <td>80845</td>\n",
       "      <td>1877.78</td>\n",
       "      <td>0.70</td>\n",
       "      <td>75.491958</td>\n",
       "      <td>7.4</td>\n",
       "      <td>0.6</td>\n",
       "    </tr>\n",
       "    <tr>\n",
       "      <th>4</th>\n",
       "      <td>TACNA</td>\n",
       "      <td>TACNA</td>\n",
       "      <td>SAMA</td>\n",
       "      <td>POLYGON ((-70.42497 -17.88934, -70.48022 -17.9...</td>\n",
       "      <td>TACNA+SAMA</td>\n",
       "      <td>230109</td>\n",
       "      <td>2679</td>\n",
       "      <td>1115.98</td>\n",
       "      <td>0.55</td>\n",
       "      <td>70.500250</td>\n",
       "      <td>52.4</td>\n",
       "      <td>10.8</td>\n",
       "    </tr>\n",
       "  </tbody>\n",
       "</table>\n",
       "</div>"
      ],
      "text/plain": [
       "  DEPARTAMEN PROVINCIA                              DISTRITO  \\\n",
       "0      TACNA     TACNA  CORONEL GREGORIO ALBARRACIN LANCHIPA   \n",
       "1      TACNA     TACNA                              POCOLLAY   \n",
       "2      TACNA     TACNA                                CALANA   \n",
       "3      TACNA     TACNA                                 TACNA   \n",
       "4      TACNA     TACNA                                  SAMA   \n",
       "\n",
       "                                            geometry  \\\n",
       "0  POLYGON ((-70.17413 -18.12896, -70.17461 -18.1...   \n",
       "1  POLYGON ((-69.93475 -17.92557, -69.90467 -17.9...   \n",
       "2  POLYGON ((-70.11604 -17.91106, -70.11457 -17.9...   \n",
       "3  POLYGON ((-70.31490 -17.94498, -70.30682 -17.9...   \n",
       "4  POLYGON ((-70.42497 -17.88934, -70.48022 -17.9...   \n",
       "\n",
       "                                     provDist  Ubigeo  Poblacion  Superficie  \\\n",
       "0  TACNA+CORONEL GREGORIO ALBARRACIN LANCHIPA  230110     123662      187.74   \n",
       "1                              TACNA+POCOLLAY  230108      22319      265.65   \n",
       "2                                TACNA+CALANA  230103       3338      108.38   \n",
       "3                                 TACNA+TACNA  230101      80845     1877.78   \n",
       "4                                  TACNA+SAMA  230109       2679     1115.98   \n",
       "\n",
       "   IDH2019  Educ_sec_comp2019_pct  NBI2017_pct  Viv_sin_serv_hig2017_pct  \n",
       "0     0.58              71.178389         15.8                       0.8  \n",
       "1     0.65              75.825743         16.1                       0.9  \n",
       "2     0.56              77.829717         15.9                       3.3  \n",
       "3     0.70              75.491958          7.4                       0.6  \n",
       "4     0.55              70.500250         52.4                      10.8  "
      ]
     },
     "execution_count": 23,
     "metadata": {},
     "output_type": "execute_result"
    }
   ],
   "source": [
    "bye=['Departamento', 'Provincia', 'Distrito','INSTITUCIO']\n",
    "datadismap.drop(columns=bye,inplace=True)\n",
    "\n",
    "# keeping\n",
    "datadismap.head()"
   ]
  },
  {
   "cell_type": "code",
   "execution_count": 24,
   "id": "350f1cdd",
   "metadata": {},
   "outputs": [
    {
     "ename": "CRSError",
     "evalue": "Invalid input to create CRS: GEOGCRS[\"WGS 84\",ENSEMBLE[\"World Geodetic System 1984 ensemble\",MEMBER[\"World Geodetic System 1984 (Transit)\"],MEMBER[\"World Geodetic System 1984 (G730)\"],MEMBER[\"World Geodetic System 1984 (G873)\"],MEMBER[\"World Geodetic System 1984 (G1150)\"],MEMBER[\"World Geodetic System 1984 (G1674)\"],MEMBER[\"World Geodetic System 1984 (G1762)\"],MEMBER[\"World Geodetic System 1984 (G2139)\"],ELLIPSOID[\"WGS 84\",6378137,298.257223563,LENGTHUNIT[\"metre\",1]],ENSEMBLEACCURACY[2.0]],PRIMEM[\"Greenwich\",0,ANGLEUNIT[\"degree\",0.0174532925199433]],CS[ellipsoidal,2],AXIS[\"geodetic latitude (Lat)\",north,ORDER[1],ANGLEUNIT[\"degree\",0.0174532925199433]],AXIS[\"geodetic longitude (Lon)\",east,ORDER[2],ANGLEUNIT[\"degree\",0.0174532925199433]],USAGE[SCOPE[\"Horizontal component of 3D system.\"],AREA[\"World.\"],BBOX[-90,-180,90,180]],ID[\"EPSG\",4326]]",
     "output_type": "error",
     "traceback": [
      "\u001b[0;31m---------------------------------------------------------------------------\u001b[0m",
      "\u001b[0;31mCRSError\u001b[0m                                  Traceback (most recent call last)",
      "\u001b[0;32m/var/folders/pp/wsqs486n1_s3v87bwxgl6p440000gn/T/ipykernel_17348/1175603512.py\u001b[0m in \u001b[0;36m<module>\u001b[0;34m\u001b[0m\n\u001b[0;32m----> 1\u001b[0;31m \u001b[0mdatadismap\u001b[0m\u001b[0;34m.\u001b[0m\u001b[0mto_file\u001b[0m\u001b[0;34m(\u001b[0m\u001b[0mos\u001b[0m\u001b[0;34m.\u001b[0m\u001b[0mpath\u001b[0m\u001b[0;34m.\u001b[0m\u001b[0mjoin\u001b[0m\u001b[0;34m(\u001b[0m\u001b[0;34m'maps'\u001b[0m\u001b[0;34m,\u001b[0m\u001b[0;34m\"dataMapPeru.gpkg\"\u001b[0m\u001b[0;34m)\u001b[0m\u001b[0;34m,\u001b[0m \u001b[0mlayer\u001b[0m\u001b[0;34m=\u001b[0m\u001b[0;34m'distritos'\u001b[0m\u001b[0;34m,\u001b[0m \u001b[0mdriver\u001b[0m\u001b[0;34m=\u001b[0m\u001b[0;34m\"GPKG\"\u001b[0m\u001b[0;34m)\u001b[0m\u001b[0;34m\u001b[0m\u001b[0;34m\u001b[0m\u001b[0m\n\u001b[0m",
      "\u001b[0;32m~/opt/anaconda3/lib/python3.9/site-packages/geopandas/geodataframe.py\u001b[0m in \u001b[0;36mto_file\u001b[0;34m(self, filename, driver, schema, index, **kwargs)\u001b[0m\n\u001b[1;32m   1261\u001b[0m         \u001b[0;32mfrom\u001b[0m \u001b[0mgeopandas\u001b[0m\u001b[0;34m.\u001b[0m\u001b[0mio\u001b[0m\u001b[0;34m.\u001b[0m\u001b[0mfile\u001b[0m \u001b[0;32mimport\u001b[0m \u001b[0m_to_file\u001b[0m\u001b[0;34m\u001b[0m\u001b[0;34m\u001b[0m\u001b[0m\n\u001b[1;32m   1262\u001b[0m \u001b[0;34m\u001b[0m\u001b[0m\n\u001b[0;32m-> 1263\u001b[0;31m         \u001b[0m_to_file\u001b[0m\u001b[0;34m(\u001b[0m\u001b[0mself\u001b[0m\u001b[0;34m,\u001b[0m \u001b[0mfilename\u001b[0m\u001b[0;34m,\u001b[0m \u001b[0mdriver\u001b[0m\u001b[0;34m,\u001b[0m \u001b[0mschema\u001b[0m\u001b[0;34m,\u001b[0m \u001b[0mindex\u001b[0m\u001b[0;34m,\u001b[0m \u001b[0;34m**\u001b[0m\u001b[0mkwargs\u001b[0m\u001b[0;34m)\u001b[0m\u001b[0;34m\u001b[0m\u001b[0;34m\u001b[0m\u001b[0m\n\u001b[0m\u001b[1;32m   1264\u001b[0m \u001b[0;34m\u001b[0m\u001b[0m\n\u001b[1;32m   1265\u001b[0m     \u001b[0;32mdef\u001b[0m \u001b[0mset_crs\u001b[0m\u001b[0;34m(\u001b[0m\u001b[0mself\u001b[0m\u001b[0;34m,\u001b[0m \u001b[0mcrs\u001b[0m\u001b[0;34m=\u001b[0m\u001b[0;32mNone\u001b[0m\u001b[0;34m,\u001b[0m \u001b[0mepsg\u001b[0m\u001b[0;34m=\u001b[0m\u001b[0;32mNone\u001b[0m\u001b[0;34m,\u001b[0m \u001b[0minplace\u001b[0m\u001b[0;34m=\u001b[0m\u001b[0;32mFalse\u001b[0m\u001b[0;34m,\u001b[0m \u001b[0mallow_override\u001b[0m\u001b[0;34m=\u001b[0m\u001b[0;32mFalse\u001b[0m\u001b[0;34m)\u001b[0m\u001b[0;34m:\u001b[0m\u001b[0;34m\u001b[0m\u001b[0;34m\u001b[0m\u001b[0m\n",
      "\u001b[0;32m~/opt/anaconda3/lib/python3.9/site-packages/geopandas/io/file.py\u001b[0m in \u001b[0;36m_to_file\u001b[0;34m(df, filename, driver, schema, index, mode, crs, engine, **kwargs)\u001b[0m\n\u001b[1;32m    570\u001b[0m \u001b[0;34m\u001b[0m\u001b[0m\n\u001b[1;32m    571\u001b[0m     \u001b[0;32mif\u001b[0m \u001b[0mengine\u001b[0m \u001b[0;34m==\u001b[0m \u001b[0;34m\"fiona\"\u001b[0m\u001b[0;34m:\u001b[0m\u001b[0;34m\u001b[0m\u001b[0;34m\u001b[0m\u001b[0m\n\u001b[0;32m--> 572\u001b[0;31m         \u001b[0m_to_file_fiona\u001b[0m\u001b[0;34m(\u001b[0m\u001b[0mdf\u001b[0m\u001b[0;34m,\u001b[0m \u001b[0mfilename\u001b[0m\u001b[0;34m,\u001b[0m \u001b[0mdriver\u001b[0m\u001b[0;34m,\u001b[0m \u001b[0mschema\u001b[0m\u001b[0;34m,\u001b[0m \u001b[0mcrs\u001b[0m\u001b[0;34m,\u001b[0m \u001b[0mmode\u001b[0m\u001b[0;34m,\u001b[0m \u001b[0;34m**\u001b[0m\u001b[0mkwargs\u001b[0m\u001b[0;34m)\u001b[0m\u001b[0;34m\u001b[0m\u001b[0;34m\u001b[0m\u001b[0m\n\u001b[0m\u001b[1;32m    573\u001b[0m     \u001b[0;32melif\u001b[0m \u001b[0mengine\u001b[0m \u001b[0;34m==\u001b[0m \u001b[0;34m\"pyogrio\"\u001b[0m\u001b[0;34m:\u001b[0m\u001b[0;34m\u001b[0m\u001b[0;34m\u001b[0m\u001b[0m\n\u001b[1;32m    574\u001b[0m         \u001b[0m_to_file_pyogrio\u001b[0m\u001b[0;34m(\u001b[0m\u001b[0mdf\u001b[0m\u001b[0;34m,\u001b[0m \u001b[0mfilename\u001b[0m\u001b[0;34m,\u001b[0m \u001b[0mdriver\u001b[0m\u001b[0;34m,\u001b[0m \u001b[0mschema\u001b[0m\u001b[0;34m,\u001b[0m \u001b[0mcrs\u001b[0m\u001b[0;34m,\u001b[0m \u001b[0mmode\u001b[0m\u001b[0;34m,\u001b[0m \u001b[0;34m**\u001b[0m\u001b[0mkwargs\u001b[0m\u001b[0;34m)\u001b[0m\u001b[0;34m\u001b[0m\u001b[0;34m\u001b[0m\u001b[0m\n",
      "\u001b[0;32m~/opt/anaconda3/lib/python3.9/site-packages/geopandas/io/file.py\u001b[0m in \u001b[0;36m_to_file_fiona\u001b[0;34m(df, filename, driver, schema, crs, mode, **kwargs)\u001b[0m\n\u001b[1;32m    596\u001b[0m         \u001b[0;32melif\u001b[0m \u001b[0mcrs\u001b[0m\u001b[0;34m:\u001b[0m\u001b[0;34m\u001b[0m\u001b[0;34m\u001b[0m\u001b[0m\n\u001b[1;32m    597\u001b[0m             \u001b[0mcrs_wkt\u001b[0m \u001b[0;34m=\u001b[0m \u001b[0mcrs\u001b[0m\u001b[0;34m.\u001b[0m\u001b[0mto_wkt\u001b[0m\u001b[0;34m(\u001b[0m\u001b[0;34m\"WKT1_GDAL\"\u001b[0m\u001b[0;34m)\u001b[0m\u001b[0;34m\u001b[0m\u001b[0;34m\u001b[0m\u001b[0m\n\u001b[0;32m--> 598\u001b[0;31m         with fiona.open(\n\u001b[0m\u001b[1;32m    599\u001b[0m             \u001b[0mfilename\u001b[0m\u001b[0;34m,\u001b[0m \u001b[0mmode\u001b[0m\u001b[0;34m=\u001b[0m\u001b[0mmode\u001b[0m\u001b[0;34m,\u001b[0m \u001b[0mdriver\u001b[0m\u001b[0;34m=\u001b[0m\u001b[0mdriver\u001b[0m\u001b[0;34m,\u001b[0m \u001b[0mcrs_wkt\u001b[0m\u001b[0;34m=\u001b[0m\u001b[0mcrs_wkt\u001b[0m\u001b[0;34m,\u001b[0m \u001b[0mschema\u001b[0m\u001b[0;34m=\u001b[0m\u001b[0mschema\u001b[0m\u001b[0;34m,\u001b[0m \u001b[0;34m**\u001b[0m\u001b[0mkwargs\u001b[0m\u001b[0;34m\u001b[0m\u001b[0;34m\u001b[0m\u001b[0m\n\u001b[1;32m    600\u001b[0m         ) as colxn:\n",
      "\u001b[0;32m~/opt/anaconda3/lib/python3.9/site-packages/fiona/env.py\u001b[0m in \u001b[0;36mwrapper\u001b[0;34m(*args, **kwargs)\u001b[0m\n\u001b[1;32m    406\u001b[0m     \u001b[0;32mdef\u001b[0m \u001b[0mwrapper\u001b[0m\u001b[0;34m(\u001b[0m\u001b[0;34m*\u001b[0m\u001b[0margs\u001b[0m\u001b[0;34m,\u001b[0m \u001b[0;34m**\u001b[0m\u001b[0mkwargs\u001b[0m\u001b[0;34m)\u001b[0m\u001b[0;34m:\u001b[0m\u001b[0;34m\u001b[0m\u001b[0;34m\u001b[0m\u001b[0m\n\u001b[1;32m    407\u001b[0m         \u001b[0;32mif\u001b[0m \u001b[0mlocal\u001b[0m\u001b[0;34m.\u001b[0m\u001b[0m_env\u001b[0m\u001b[0;34m:\u001b[0m\u001b[0;34m\u001b[0m\u001b[0;34m\u001b[0m\u001b[0m\n\u001b[0;32m--> 408\u001b[0;31m             \u001b[0;32mreturn\u001b[0m \u001b[0mf\u001b[0m\u001b[0;34m(\u001b[0m\u001b[0;34m*\u001b[0m\u001b[0margs\u001b[0m\u001b[0;34m,\u001b[0m \u001b[0;34m**\u001b[0m\u001b[0mkwargs\u001b[0m\u001b[0;34m)\u001b[0m\u001b[0;34m\u001b[0m\u001b[0;34m\u001b[0m\u001b[0m\n\u001b[0m\u001b[1;32m    409\u001b[0m         \u001b[0;32melse\u001b[0m\u001b[0;34m:\u001b[0m\u001b[0;34m\u001b[0m\u001b[0;34m\u001b[0m\u001b[0m\n\u001b[1;32m    410\u001b[0m             \u001b[0;32mif\u001b[0m \u001b[0misinstance\u001b[0m\u001b[0;34m(\u001b[0m\u001b[0margs\u001b[0m\u001b[0;34m[\u001b[0m\u001b[0;36m0\u001b[0m\u001b[0;34m]\u001b[0m\u001b[0;34m,\u001b[0m \u001b[0mstr\u001b[0m\u001b[0;34m)\u001b[0m\u001b[0;34m:\u001b[0m\u001b[0;34m\u001b[0m\u001b[0;34m\u001b[0m\u001b[0m\n",
      "\u001b[0;32m~/opt/anaconda3/lib/python3.9/site-packages/fiona/__init__.py\u001b[0m in \u001b[0;36mopen\u001b[0;34m(fp, mode, driver, schema, crs, encoding, layer, vfs, enabled_drivers, crs_wkt, **kwargs)\u001b[0m\n\u001b[1;32m    278\u001b[0m             \u001b[0;32melse\u001b[0m\u001b[0;34m:\u001b[0m\u001b[0;34m\u001b[0m\u001b[0;34m\u001b[0m\u001b[0m\n\u001b[1;32m    279\u001b[0m                 \u001b[0mthis_schema\u001b[0m \u001b[0;34m=\u001b[0m \u001b[0;32mNone\u001b[0m\u001b[0;34m\u001b[0m\u001b[0;34m\u001b[0m\u001b[0m\n\u001b[0;32m--> 280\u001b[0;31m             c = Collection(path, mode, crs=crs, driver=driver, schema=this_schema,\n\u001b[0m\u001b[1;32m    281\u001b[0m                            \u001b[0mencoding\u001b[0m\u001b[0;34m=\u001b[0m\u001b[0mencoding\u001b[0m\u001b[0;34m,\u001b[0m \u001b[0mlayer\u001b[0m\u001b[0;34m=\u001b[0m\u001b[0mlayer\u001b[0m\u001b[0;34m,\u001b[0m \u001b[0menabled_drivers\u001b[0m\u001b[0;34m=\u001b[0m\u001b[0menabled_drivers\u001b[0m\u001b[0;34m,\u001b[0m \u001b[0mcrs_wkt\u001b[0m\u001b[0;34m=\u001b[0m\u001b[0mcrs_wkt\u001b[0m\u001b[0;34m,\u001b[0m\u001b[0;34m\u001b[0m\u001b[0;34m\u001b[0m\u001b[0m\n\u001b[1;32m    282\u001b[0m                            **kwargs)\n",
      "\u001b[0;32m~/opt/anaconda3/lib/python3.9/site-packages/fiona/collection.py\u001b[0m in \u001b[0;36m__init__\u001b[0;34m(self, path, mode, driver, schema, crs, encoding, layer, vsi, archive, enabled_drivers, crs_wkt, ignore_fields, ignore_geometry, **kwargs)\u001b[0m\n\u001b[1;32m    151\u001b[0m             \u001b[0mself\u001b[0m\u001b[0;34m.\u001b[0m\u001b[0m_check_schema_driver_support\u001b[0m\u001b[0;34m(\u001b[0m\u001b[0;34m)\u001b[0m\u001b[0;34m\u001b[0m\u001b[0;34m\u001b[0m\u001b[0m\n\u001b[1;32m    152\u001b[0m             \u001b[0;32mif\u001b[0m \u001b[0mcrs_wkt\u001b[0m \u001b[0;32mor\u001b[0m \u001b[0mcrs\u001b[0m\u001b[0;34m:\u001b[0m\u001b[0;34m\u001b[0m\u001b[0;34m\u001b[0m\u001b[0m\n\u001b[0;32m--> 153\u001b[0;31m                 \u001b[0mself\u001b[0m\u001b[0;34m.\u001b[0m\u001b[0m_crs_wkt\u001b[0m \u001b[0;34m=\u001b[0m \u001b[0mcrs_to_wkt\u001b[0m\u001b[0;34m(\u001b[0m\u001b[0mcrs_wkt\u001b[0m \u001b[0;32mor\u001b[0m \u001b[0mcrs\u001b[0m\u001b[0;34m)\u001b[0m\u001b[0;34m\u001b[0m\u001b[0;34m\u001b[0m\u001b[0m\n\u001b[0m\u001b[1;32m    154\u001b[0m \u001b[0;34m\u001b[0m\u001b[0m\n\u001b[1;32m    155\u001b[0m         \u001b[0mself\u001b[0m\u001b[0;34m.\u001b[0m\u001b[0m_driver\u001b[0m \u001b[0;34m=\u001b[0m \u001b[0mdriver\u001b[0m\u001b[0;34m\u001b[0m\u001b[0;34m\u001b[0m\u001b[0m\n",
      "\u001b[0;32mfiona/_crs.pyx\u001b[0m in \u001b[0;36mfiona._crs.crs_to_wkt\u001b[0;34m()\u001b[0m\n",
      "\u001b[0;31mCRSError\u001b[0m: Invalid input to create CRS: GEOGCRS[\"WGS 84\",ENSEMBLE[\"World Geodetic System 1984 ensemble\",MEMBER[\"World Geodetic System 1984 (Transit)\"],MEMBER[\"World Geodetic System 1984 (G730)\"],MEMBER[\"World Geodetic System 1984 (G873)\"],MEMBER[\"World Geodetic System 1984 (G1150)\"],MEMBER[\"World Geodetic System 1984 (G1674)\"],MEMBER[\"World Geodetic System 1984 (G1762)\"],MEMBER[\"World Geodetic System 1984 (G2139)\"],ELLIPSOID[\"WGS 84\",6378137,298.257223563,LENGTHUNIT[\"metre\",1]],ENSEMBLEACCURACY[2.0]],PRIMEM[\"Greenwich\",0,ANGLEUNIT[\"degree\",0.0174532925199433]],CS[ellipsoidal,2],AXIS[\"geodetic latitude (Lat)\",north,ORDER[1],ANGLEUNIT[\"degree\",0.0174532925199433]],AXIS[\"geodetic longitude (Lon)\",east,ORDER[2],ANGLEUNIT[\"degree\",0.0174532925199433]],USAGE[SCOPE[\"Horizontal component of 3D system.\"],AREA[\"World.\"],BBOX[-90,-180,90,180]],ID[\"EPSG\",4326]]"
     ]
    }
   ],
   "source": [
    "datadismap.to_file(os.path.join('maps',\"dataMapPeru.gpkg\"), layer='distritos', driver=\"GPKG\")"
   ]
  },
  {
   "cell_type": "code",
   "execution_count": 25,
   "id": "1c4a0c6b",
   "metadata": {},
   "outputs": [],
   "source": [
    "#Exploring one variable"
   ]
  },
  {
   "cell_type": "code",
   "execution_count": 26,
   "id": "90f03c97",
   "metadata": {},
   "outputs": [
    {
     "data": {
      "text/plain": [
       "count    1874.000000\n",
       "mean        0.409520\n",
       "std         0.140099\n",
       "min         0.090000\n",
       "25%         0.300000\n",
       "50%         0.390000\n",
       "75%         0.510000\n",
       "max         0.850000\n",
       "Name: IDH2019, dtype: float64"
      ]
     },
     "execution_count": 26,
     "metadata": {},
     "output_type": "execute_result"
    }
   ],
   "source": [
    "# statistics\n",
    "datadismap.IDH2019.describe()"
   ]
  },
  {
   "cell_type": "code",
   "execution_count": 27,
   "id": "c4517b66",
   "metadata": {},
   "outputs": [
    {
     "data": {
      "text/plain": [
       "<seaborn.axisgrid.FacetGrid at 0x7fa35596b220>"
      ]
     },
     "execution_count": 27,
     "metadata": {},
     "output_type": "execute_result"
    },
    {
     "data": {
      "image/png": "[encoded data removed]",
      "text/plain": [
       "<Figure size 500x500 with 1 Axes>"
      ]
     },
     "metadata": {},
     "output_type": "display_data"
    }
   ],
   "source": [
    "import seaborn as sea\n",
    "\n",
    "sea.displot(datadismap.IDH2019, color='yellow')"
   ]
  },
  {
   "cell_type": "code",
   "execution_count": 28,
   "id": "fbf7ea08",
   "metadata": {},
   "outputs": [
    {
     "name": "stderr",
     "output_type": "stream",
     "text": [
      "/Users/valeriaminano/opt/anaconda3/lib/python3.9/site-packages/seaborn/_decorators.py:36: FutureWarning: Pass the following variable as a keyword arg: x. From version 0.12, the only valid positional argument will be `data`, and passing other arguments without an explicit keyword will result in an error or misinterpretation.\n",
      "  warnings.warn(\n"
     ]
    },
    {
     "data": {
      "text/plain": [
       "<AxesSubplot:xlabel='IDH2019'>"
      ]
     },
     "execution_count": 28,
     "metadata": {},
     "output_type": "execute_result"
    }
   ],
   "source": [
    "sea.boxplot(datadismap.IDH2019, color='yellow',orient='h')"
   ]
  },
  {
   "cell_type": "code",
   "execution_count": null,
   "id": "b318d4db",
   "metadata": {},
   "outputs": [],
   "source": [
    "import mapclassify \n",
    "import numpy as np\n",
    "\n",
    "np.random.seed(12345) # so we all get the same results!\n",
    "\n",
    "# let's try 5 intervals\n",
    "K=5\n",
    "# same interval width, easy interpretation\n",
    "ei5 = mapclassify.EqualInterval(datadismap['IDH2019'], k=K)\n",
    "# same interval width based on standard deviation, easy - but not as the previous one, poor when high skewness\n",
    "msd = mapclassify.StdMean(datadismap['IDH2019'])\n",
    "# interval width varies, counts per interval are close, not easy to grasp, repeated values complicate cuts                                \n",
    "q5=mapclassify.Quantiles(datadismap['IDH2019'],k=K)\n",
    "\n",
    "# based on similarity, good for multimodal data \n",
    "mb5 = mapclassify.MaximumBreaks(datadismap['IDH2019'], k=K)\n",
    "# based on similarity, good for skewed data\n",
    "ht = mapclassify.HeadTailBreaks(datadismap['IDH2019']) # no K needed\n",
    "# based on similarity, optimizer\n",
    "fj5 = mapclassify.FisherJenks(datadismap['IDH2019'], k=K)\n",
    "# based on similarity, optimizer\n",
    "jc5 = mapclassify.JenksCaspall(datadismap['IDH2019'], k=K)\n",
    "# based on similarity, optimizer\n",
    "mp5 = mapclassify.MaxP(datadismap['IDH2019'], k=K)"
   ]
  },
  {
   "cell_type": "code",
   "execution_count": null,
   "id": "c9c547f7",
   "metadata": {},
   "outputs": [],
   "source": []
  }
 ],
 "metadata": {
  "kernelspec": {
   "display_name": "Python 3 (ipykernel)",
   "language": "python",
   "name": "python3"
  },
  "language_info": {
   "codemirror_mode": {
    "name": "ipython",
    "version": 3
   },
   "file_extension": ".py",
   "mimetype": "text/x-python",
   "name": "python",
   "nbconvert_exporter": "python",
   "pygments_lexer": "ipython3",
   "version": "3.9.13"
  }
 },
 "nbformat": 4,
 "nbformat_minor": 5
}
